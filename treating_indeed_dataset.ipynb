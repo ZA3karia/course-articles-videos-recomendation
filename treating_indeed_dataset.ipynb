{
  "nbformat": 4,
  "nbformat_minor": 0,
  "metadata": {
    "colab": {
      "name": "treating_indeed_dataset.ipynb",
      "version": "0.3.2",
      "provenance": [],
      "collapsed_sections": [],
      "include_colab_link": true
    },
    "kernelspec": {
      "name": "python3",
      "display_name": "Python 3"
    }
  },
  "cells": [
    {
      "cell_type": "markdown",
      "metadata": {
        "id": "view-in-github",
        "colab_type": "text"
      },
      "source": [
        "<a href=\"https://colab.research.google.com/github/ZA3karia/course-articles-videos-recomendation/blob/master/treating_indeed_dataset.ipynb\" target=\"_parent\"><img src=\"https://colab.research.google.com/assets/colab-badge.svg\" alt=\"Open In Colab\"/></a>"
      ]
    },
    {
      "cell_type": "markdown",
      "metadata": {
        "id": "VcVqHUBBId6c",
        "colab_type": "text"
      },
      "source": [
        "#Importing the dataset\n",
        "The dataset used for this article is a subset of the papers.csv dataset provided in the NIPS paper datasets on Kaggle. Only those rows that contain an abstract have been used. The title and abstract have been concatenated after which the file is saved as a tab separated *.txt file."
      ]
    },
    {
      "cell_type": "code",
      "metadata": {
        "id": "A9C1bC01Gvvm",
        "colab_type": "code",
        "outputId": "300c2446-feac-4b9a-b7cf-2332219d84b7",
        "colab": {
          "base_uri": "https://localhost:8080/",
          "height": 323
        }
      },
      "source": [
        "import pandas\n",
        "# load the dataset\n",
        "path = input(\"give me the csv file path :\")\n",
        "dataset = pandas.read_csv(path)\n",
        "dataset.head()"
      ],
      "execution_count": 43,
      "outputs": [
        {
          "output_type": "stream",
          "text": [
            "give me the csv file path :/content/web_dev (1).csv\n"
          ],
          "name": "stdout"
        },
        {
          "output_type": "execute_result",
          "data": {
            "text/html": [
              "<div>\n",
              "<style scoped>\n",
              "    .dataframe tbody tr th:only-of-type {\n",
              "        vertical-align: middle;\n",
              "    }\n",
              "\n",
              "    .dataframe tbody tr th {\n",
              "        vertical-align: top;\n",
              "    }\n",
              "\n",
              "    .dataframe thead th {\n",
              "        text-align: right;\n",
              "    }\n",
              "</style>\n",
              "<table border=\"1\" class=\"dataframe\">\n",
              "  <thead>\n",
              "    <tr style=\"text-align: right;\">\n",
              "      <th></th>\n",
              "      <th>Unnamed: 0</th>\n",
              "      <th>title</th>\n",
              "      <th>url</th>\n",
              "      <th>post</th>\n",
              "    </tr>\n",
              "  </thead>\n",
              "  <tbody>\n",
              "    <tr>\n",
              "      <th>0</th>\n",
              "      <td>0</td>\n",
              "      <td>Austin, TX 78735</td>\n",
              "      <td>https://www.indeed.com/pagead/clk?mo=r&amp;ad=-6NY...</td>\n",
              "      <td>The Lee Tilford Agency is looking to bring an ...</td>\n",
              "    </tr>\n",
              "    <tr>\n",
              "      <th>1</th>\n",
              "      <td>1</td>\n",
              "      <td>Web Development Project Manager</td>\n",
              "      <td>https://www.indeed.com/pagead/clk?mo=r&amp;ad=-6NY...</td>\n",
              "      <td>American Cruise Lines is the leading small shi...</td>\n",
              "    </tr>\n",
              "    <tr>\n",
              "      <th>2</th>\n",
              "      <td>2</td>\n",
              "      <td>Baltimore, MD 21218</td>\n",
              "      <td>https://www.indeed.com/pagead/clk?mo=r&amp;ad=-6NY...</td>\n",
              "      <td>The Space Telescope Science Institute is the s...</td>\n",
              "    </tr>\n",
              "    <tr>\n",
              "      <th>3</th>\n",
              "      <td>3</td>\n",
              "      <td>Web Production Specialist</td>\n",
              "      <td>https://www.indeed.com/rc/clk?jk=4286ca624ba7b...</td>\n",
              "      <td>Follow Get job updates from Billabong Group\\n\\...</td>\n",
              "    </tr>\n",
              "    <tr>\n",
              "      <th>4</th>\n",
              "      <td>4</td>\n",
              "      <td>Web Developer</td>\n",
              "      <td>https://www.indeed.com/rc/clk?jk=53a0854a1de59...</td>\n",
              "      <td>RSA, a Dell Technologies business, helps more ...</td>\n",
              "    </tr>\n",
              "  </tbody>\n",
              "</table>\n",
              "</div>"
            ],
            "text/plain": [
              "   Unnamed: 0  ...                                               post\n",
              "0           0  ...  The Lee Tilford Agency is looking to bring an ...\n",
              "1           1  ...  American Cruise Lines is the leading small shi...\n",
              "2           2  ...  The Space Telescope Science Institute is the s...\n",
              "3           3  ...  Follow Get job updates from Billabong Group\\n\\...\n",
              "4           4  ...  RSA, a Dell Technologies business, helps more ...\n",
              "\n",
              "[5 rows x 4 columns]"
            ]
          },
          "metadata": {
            "tags": []
          },
          "execution_count": 43
        }
      ]
    },
    {
      "cell_type": "markdown",
      "metadata": {
        "id": "IxETWBrgIzfW",
        "colab_type": "text"
      },
      "source": [
        "#Preliminary text exploration\n",
        "Before we proceed with any text pre-processing, it is advisable to quickly explore the dataset in terms of word counts, most common and most uncommon words.\n",
        "##Fetch word count for each abstract"
      ]
    },
    {
      "cell_type": "code",
      "metadata": {
        "id": "MM17IHJNIzNm",
        "colab_type": "code",
        "outputId": "ff597d0b-4758-481e-da66-cc252be8e73d",
        "colab": {
          "base_uri": "https://localhost:8080/",
          "height": 204
        }
      },
      "source": [
        "#Fetch wordcount for each abstract\n",
        "dataset['word_count'] = dataset['post'].apply(lambda x: len(str(x).split(\" \")))\n",
        "dataset[['post','word_count']].head()"
      ],
      "execution_count": 4,
      "outputs": [
        {
          "output_type": "execute_result",
          "data": {
            "text/html": [
              "<div>\n",
              "<style scoped>\n",
              "    .dataframe tbody tr th:only-of-type {\n",
              "        vertical-align: middle;\n",
              "    }\n",
              "\n",
              "    .dataframe tbody tr th {\n",
              "        vertical-align: top;\n",
              "    }\n",
              "\n",
              "    .dataframe thead th {\n",
              "        text-align: right;\n",
              "    }\n",
              "</style>\n",
              "<table border=\"1\" class=\"dataframe\">\n",
              "  <thead>\n",
              "    <tr style=\"text-align: right;\">\n",
              "      <th></th>\n",
              "      <th>post</th>\n",
              "      <th>word_count</th>\n",
              "    </tr>\n",
              "  </thead>\n",
              "  <tbody>\n",
              "    <tr>\n",
              "      <th>0</th>\n",
              "      <td>The Lee Tilford Agency is looking to bring an ...</td>\n",
              "      <td>304</td>\n",
              "    </tr>\n",
              "    <tr>\n",
              "      <th>1</th>\n",
              "      <td>American Cruise Lines is the leading small shi...</td>\n",
              "      <td>101</td>\n",
              "    </tr>\n",
              "    <tr>\n",
              "      <th>2</th>\n",
              "      <td>The Space Telescope Science Institute is the s...</td>\n",
              "      <td>910</td>\n",
              "    </tr>\n",
              "    <tr>\n",
              "      <th>3</th>\n",
              "      <td>Follow Get job updates from Billabong Group\\n\\...</td>\n",
              "      <td>29</td>\n",
              "    </tr>\n",
              "    <tr>\n",
              "      <th>4</th>\n",
              "      <td>RSA, a Dell Technologies business, helps more ...</td>\n",
              "      <td>499</td>\n",
              "    </tr>\n",
              "  </tbody>\n",
              "</table>\n",
              "</div>"
            ],
            "text/plain": [
              "                                                post  word_count\n",
              "0  The Lee Tilford Agency is looking to bring an ...         304\n",
              "1  American Cruise Lines is the leading small shi...         101\n",
              "2  The Space Telescope Science Institute is the s...         910\n",
              "3  Follow Get job updates from Billabong Group\\n\\...          29\n",
              "4  RSA, a Dell Technologies business, helps more ...         499"
            ]
          },
          "metadata": {
            "tags": []
          },
          "execution_count": 4
        }
      ]
    },
    {
      "cell_type": "code",
      "metadata": {
        "id": "Ig-qUDIeJCY6",
        "colab_type": "code",
        "outputId": "351b151f-2344-474d-9bf4-f26a6c224049",
        "colab": {
          "base_uri": "https://localhost:8080/",
          "height": 170
        }
      },
      "source": [
        "##Descriptive statistics of word counts\n",
        "dataset.word_count.describe()"
      ],
      "execution_count": 5,
      "outputs": [
        {
          "output_type": "execute_result",
          "data": {
            "text/plain": [
              "count     246.000000\n",
              "mean      395.609756\n",
              "std       248.800670\n",
              "min         9.000000\n",
              "25%       223.000000\n",
              "50%       386.000000\n",
              "75%       563.500000\n",
              "max      1946.000000\n",
              "Name: word_count, dtype: float64"
            ]
          },
          "metadata": {
            "tags": []
          },
          "execution_count": 5
        }
      ]
    },
    {
      "cell_type": "markdown",
      "metadata": {
        "id": "TSDRVGJLJCOK",
        "colab_type": "text"
      },
      "source": [
        "##Most common and uncommon words\n",
        "A peek into the most common words gives insights not only on the frequently used words but also words that could also be potential data specific stop words. A comparison of the most common words and the default English stop words will give us a list of words that need to be added to a custom stop word list."
      ]
    },
    {
      "cell_type": "code",
      "metadata": {
        "id": "uTIC0-xeJCDT",
        "colab_type": "code",
        "outputId": "3d2f3215-9c73-45e3-bd33-ab0d2d315b61",
        "colab": {
          "base_uri": "https://localhost:8080/",
          "height": 374
        }
      },
      "source": [
        "#Identify common words\n",
        "freq = pandas.Series(' '.join(dataset['post']).split()).value_counts()[:20]\n",
        "freq"
      ],
      "execution_count": 6,
      "outputs": [
        {
          "output_type": "execute_result",
          "data": {
            "text/plain": [
              "and           5656\n",
              "to            2896\n",
              "the           2312\n",
              "a             1996\n",
              "of            1992\n",
              "in            1594\n",
              "with          1569\n",
              "for           1258\n",
              "is             832\n",
              "our            735\n",
              "or             607\n",
              "on             587\n",
              "as             583\n",
              "be             575\n",
              "are            562\n",
              "experience     534\n",
              "will           494\n",
              "web            484\n",
              "work           478\n",
              "that           469\n",
              "dtype: int64"
            ]
          },
          "metadata": {
            "tags": []
          },
          "execution_count": 6
        }
      ]
    },
    {
      "cell_type": "code",
      "metadata": {
        "id": "S2d5gwEvJYu2",
        "colab_type": "code",
        "outputId": "9f7f357f-b805-4865-b05f-ea4acc151fde",
        "colab": {
          "base_uri": "https://localhost:8080/",
          "height": 374
        }
      },
      "source": [
        "#Identify uncommon words\n",
        "freq1 =  pandas.Series(' '.join(dataset \n",
        "         ['post']).split()).value_counts()[-20:]\n",
        "freq1"
      ],
      "execution_count": 7,
      "outputs": [
        {
          "output_type": "execute_result",
          "data": {
            "text/plain": [
              "audiences.         1\n",
              "OPPORTUNITY        1\n",
              "analyzes,          1\n",
              "mode               1\n",
              "Eligible           1\n",
              "Pre-Production,    1\n",
              "thinker.           1\n",
              "professionalism    1\n",
              "OTHER              1\n",
              "Standard           1\n",
              "quartered          1\n",
              "peripherals.       1\n",
              "hats.              1\n",
              "High-School        1\n",
              ".NET,              1\n",
              "Enforce            1\n",
              "gzip               1\n",
              "(50%               1\n",
              "clerical           1\n",
              "Flickr,            1\n",
              "dtype: int64"
            ]
          },
          "metadata": {
            "tags": []
          },
          "execution_count": 7
        }
      ]
    },
    {
      "cell_type": "markdown",
      "metadata": {
        "id": "s1oBNV1jJekl",
        "colab_type": "text"
      },
      "source": [
        "Text Pre-processing\n",
        "![alt text](https://miro.medium.com/max/700/1*yOna3oFFjHmCRti1qusMAA.png)\n",
        "###Sparsity:\n",
        "*In text mining, huge matrices are created based on word frequencies with many cells having zero values. This problem is called sparsity and is minimized using various techniques.*\n",
        "\n",
        "\n",
        "Text pre-processing can be divided into two broad categories — noise removal & normalization. Data components that are redundant to the core text analytics can be considered as noise.\n",
        "![alt text](https://miro.medium.com/max/700/1*vwT-_4Eo5vcNrQ9JNl1gYg.png)\n",
        "Handling multiple occurrences / representations of the same word is called normalization. There are two types of normalization — stemming and lemmatization. Let us consider an example of various versions of the word learn — learn, learned, learning, learner. Normalisation will convert all these words to a single normalised version — “learn”.\n",
        "\n",
        "*Stemming normalizes text by removing suffixes.\n",
        "Lemmatisation is a more advanced technique which works based on the root of the word. *\n",
        "\n",
        "The following example illustrates the way stemming and lemmatisation work:"
      ]
    },
    {
      "cell_type": "code",
      "metadata": {
        "id": "wTmSTN5RKlX4",
        "colab_type": "code",
        "colab": {
          "base_uri": "https://localhost:8080/",
          "height": 68
        },
        "outputId": "5949d84e-2342-4d0f-8f26-b613d0a49b78"
      },
      "source": [
        "import nltk\n",
        "nltk.download('wordnet')"
      ],
      "execution_count": 9,
      "outputs": [
        {
          "output_type": "stream",
          "text": [
            "[nltk_data] Downloading package wordnet to /root/nltk_data...\n",
            "[nltk_data]   Package wordnet is already up-to-date!\n"
          ],
          "name": "stdout"
        },
        {
          "output_type": "execute_result",
          "data": {
            "text/plain": [
              "True"
            ]
          },
          "metadata": {
            "tags": []
          },
          "execution_count": 9
        }
      ]
    },
    {
      "cell_type": "code",
      "metadata": {
        "id": "bt6jbS4vJebG",
        "colab_type": "code",
        "outputId": "e9fe604b-0758-4500-e841-9e8fdc10be82",
        "colab": {
          "base_uri": "https://localhost:8080/",
          "height": 51
        }
      },
      "source": [
        "from nltk.stem.porter import PorterStemmer\n",
        "from nltk.stem.wordnet import WordNetLemmatizer\n",
        "\n",
        "lem = WordNetLemmatizer()\n",
        "stem = PorterStemmer()\n",
        "word = \"inversely\"\n",
        "print(\"stemming:\",stem.stem(word))\n",
        "print(\"lemmatization:\", lem.lemmatize(word, \"v\"))"
      ],
      "execution_count": 10,
      "outputs": [
        {
          "output_type": "stream",
          "text": [
            "stemming: invers\n",
            "lemmatization: inversely\n"
          ],
          "name": "stdout"
        }
      ]
    },
    {
      "cell_type": "markdown",
      "metadata": {
        "id": "b4274lNqKohg",
        "colab_type": "text"
      },
      "source": [
        "To carry out text pre-processing on our dataset, we will first import the required libraries."
      ]
    },
    {
      "cell_type": "code",
      "metadata": {
        "id": "W6m9kftrKpZD",
        "colab_type": "code",
        "outputId": "24358df6-d448-4be4-f8fa-5357b937d5e6",
        "colab": {
          "base_uri": "https://localhost:8080/",
          "height": 85
        }
      },
      "source": [
        "# Libraries for text preprocessing\n",
        "import re\n",
        "import nltk\n",
        "nltk.download('stopwords')\n",
        "from nltk.corpus import stopwords\n",
        "from nltk.stem.porter import PorterStemmer\n",
        "from nltk.tokenize import RegexpTokenizer\n",
        "nltk.download('wordnet') \n",
        "from nltk.stem.wordnet import WordNetLemmatizer"
      ],
      "execution_count": 11,
      "outputs": [
        {
          "output_type": "stream",
          "text": [
            "[nltk_data] Downloading package stopwords to /root/nltk_data...\n",
            "[nltk_data]   Unzipping corpora/stopwords.zip.\n",
            "[nltk_data] Downloading package wordnet to /root/nltk_data...\n",
            "[nltk_data]   Package wordnet is already up-to-date!\n"
          ],
          "name": "stdout"
        }
      ]
    },
    {
      "cell_type": "markdown",
      "metadata": {
        "id": "lxuSjIQSKzHR",
        "colab_type": "text"
      },
      "source": [
        "**Removing stopwords: **Stop words include the large number of prepositions, pronouns, conjunctions etc in sentences. These words need to be removed before we analyse the text, so that the frequently used words are mainly the words relevant to the context and not common words used in the text.\n",
        "\n",
        "There is a default list of stopwords in python nltk library. In addition, we might want to add context specific stopwords for which the “most common words” that we listed in the beginning will be helpful. We will now see how to create a list of stopwords and how to add custom stopwords:"
      ]
    },
    {
      "cell_type": "code",
      "metadata": {
        "id": "vRGjKPIRK5Ed",
        "colab_type": "code",
        "colab": {}
      },
      "source": [
        "##Creating a list of stop words and adding custom stopwords\n",
        "stop_words = set(stopwords.words(\"english\"))\n",
        "##Creating a list of custom stopwords\n",
        "new_words = [\"using\", \"show\", \"result\", \"large\", \"also\", \"iv\", \"one\", \"two\", \"new\", \"previously\", \"shown\"]\n",
        "stop_words = stop_words.union(new_words)"
      ],
      "execution_count": 0,
      "outputs": []
    },
    {
      "cell_type": "markdown",
      "metadata": {
        "id": "dwy9cld9LCsl",
        "colab_type": "text"
      },
      "source": [
        "We will now carry out the pre-processing tasks step-by-step to get a cleaned and normalised text corpus:"
      ]
    },
    {
      "cell_type": "code",
      "metadata": {
        "id": "9Al5DJJrLCfP",
        "colab_type": "code",
        "colab": {}
      },
      "source": [
        "corpus = []\n",
        "for post in dataset['post']:\n",
        "    #Remove punctuations\n",
        "    text = re.sub('[^a-zA-Z]', ' ', post)\n",
        "    \n",
        "    #Convert to lowercase\n",
        "    text = text.lower()\n",
        "    \n",
        "    #remove tags\n",
        "    text=re.sub(\"&lt;/?.*?&gt;\",\" &lt;&gt; \",text)\n",
        "    \n",
        "    # remove special characters and digits\n",
        "    text=re.sub(\"(\\\\d|\\\\W)+\",\" \",text)\n",
        "    \n",
        "    ##Convert to list from string\n",
        "    text = text.split()\n",
        "    \n",
        "    ##Stemming\n",
        "    ps=PorterStemmer()\n",
        "    #Lemmatisation\n",
        "    lem = WordNetLemmatizer()\n",
        "    text = [lem.lemmatize(word) for word in text if not word in  \n",
        "            stop_words] \n",
        "    text = \" \".join(text)\n",
        "    corpus.append(text)"
      ],
      "execution_count": 0,
      "outputs": []
    },
    {
      "cell_type": "code",
      "metadata": {
        "id": "DObOShC4LkAy",
        "colab_type": "code",
        "outputId": "21d20cdd-f83d-4724-f6bb-6b13627991f6",
        "colab": {
          "base_uri": "https://localhost:8080/",
          "height": 54
        }
      },
      "source": [
        "#View corpus item\n",
        "corpus[222]"
      ],
      "execution_count": 14,
      "outputs": [
        {
          "output_type": "execute_result",
          "data": {
            "text/plain": [
              "'job securedata com leader hardware encryption storage data security service looking front end wordpress web developer ideal candidate broad understanding web application development knowledge content management system ability work within cross functional team candidate must ability actively manage multiple web based project work tight deadline consistently delivering quality result job responsibility maintain current wordpress website front end feature inception design feedback implementation launch work customize wordpress plugins optimize code maximum speed scalability collaborate back end developer process connecting api collaborate project manager designer process creating design mockups understanding seo current best standard schema mockup write high quality code qualification wordpress development year experience bitbucket github strong knowledge html cs php knowledge woocommerce platform good understanding cross browser compatibility issue way work around strong knowledge experience responsive design development javascript jquery knowledge front end minimal back end development experience strong sense design quality understanding visual ui ux discipline principle basic photoshop knowledge highly organized detail oriented efficient benefit competitive salary paid time major u holiday catered lunch bright spacious office conveniently located cleveland believe creating challenging yet fun work environment employee feel like family professional want rewarded well work let u know applying today learn company http www securedata com company career portfolio available please provide link resume well job type full time part time experience front end development year preferred location cleveland oh required work authorization united state required additional compensation bonus working day monday tuesday wednesday thursday friday typical start time typical end time'"
            ]
          },
          "metadata": {
            "tags": []
          },
          "execution_count": 14
        }
      ]
    },
    {
      "cell_type": "markdown",
      "metadata": {
        "id": "B1y30YY3Lpml",
        "colab_type": "text"
      },
      "source": [
        "#Data Exploration\n",
        "We will now visualize the text corpus that we created after pre-processing to get insights on the most frequently used words."
      ]
    },
    {
      "cell_type": "code",
      "metadata": {
        "id": "K8IBFefqLpQM",
        "colab_type": "code",
        "outputId": "82964364-0d7a-40a8-8718-5e9f5d596695",
        "colab": {
          "base_uri": "https://localhost:8080/",
          "height": 238
        }
      },
      "source": [
        "#Word cloud\n",
        "from os import path\n",
        "from PIL import Image\n",
        "from wordcloud import WordCloud, STOPWORDS, ImageColorGenerator\n",
        "import matplotlib.pyplot as plt\n",
        "% matplotlib inline\n",
        "wordcloud = WordCloud(\n",
        "                          background_color='black',\n",
        "                          stopwords=stop_words,\n",
        "                          max_words=100,\n",
        "                          max_font_size=50, \n",
        "                          random_state=42\n",
        "                         ).generate(str(corpus))\n",
        "print(wordcloud)\n",
        "fig = plt.figure(1)\n",
        "plt.imshow(wordcloud)\n",
        "plt.axis('off')\n",
        "plt.show()\n",
        "fig.savefig(\"word1.png\", dpi=900)"
      ],
      "execution_count": 40,
      "outputs": [
        {
          "output_type": "stream",
          "text": [
            "<wordcloud.wordcloud.WordCloud object at 0x7f2b5c1d7eb8>\n"
          ],
          "name": "stdout"
        },
        {
          "output_type": "display_data",
          "data": {
            "image/png": "[encoded data removed]",
            "text/plain": [
              "<Figure size 432x288 with 1 Axes>"
            ]
          },
          "metadata": {
            "tags": []
          }
        }
      ]
    },
    {
      "cell_type": "markdown",
      "metadata": {
        "id": "tD06zjxsLpHI",
        "colab_type": "text"
      },
      "source": [
        "#Text preparation\n",
        "Text in the corpus needs to be converted to a format that can be interpreted by the machine learning algorithms. There are 2 parts of this conversion — Tokenisation and Vectorisation.\n",
        "\n",
        "*Tokenisation is the process of converting the continuous text into a list of words. The list of words is then converted to a matrix of integers by the process of vectorisation. Vectorisation is also called feature extraction.*\n",
        "\n",
        "For text preparation we use the bag of words model which ignores the sequence of the words and only considers word frequencies."
      ]
    },
    {
      "cell_type": "markdown",
      "metadata": {
        "id": "PZ10W1pcLCOs",
        "colab_type": "text"
      },
      "source": [
        "#Creating a vector of word counts\n",
        "As the first step of conversion, we will use the CountVectoriser to tokenise the text and build a vocabulary of known words. We first create a variable “cv” of the CountVectoriser class, and then evoke the fit_transform function to learn and build the vocabulary."
      ]
    },
    {
      "cell_type": "code",
      "metadata": {
        "id": "jaawmGHNMHKq",
        "colab_type": "code",
        "colab": {}
      },
      "source": [
        "from sklearn.feature_extraction.text import CountVectorizer\n",
        "import re\n",
        "cv=CountVectorizer(max_df=0.8,stop_words=stop_words, max_features=10000, ngram_range=(1,3))\n",
        "X=cv.fit_transform(corpus)"
      ],
      "execution_count": 0,
      "outputs": []
    },
    {
      "cell_type": "markdown",
      "metadata": {
        "id": "LGx8dzZ0MKKx",
        "colab_type": "text"
      },
      "source": [
        "Let us now understand the parameters passed into the function:\n",
        "cv=CountVectorizer(max_df=0.8,stop_words=stop_words, max_features=10000, ngram_range=(1,3))\n",
        "max_df — When building the vocabulary ignore terms that have a document frequency strictly higher than the given threshold (corpus-specific stop words). This is to ensure that we only have words relevant to the context and not commonly used words.\n",
        "max_features — determines the number of columns in the matrix.\n",
        "n-gram range — we would want to look at a list of single words, two words (bi-grams) and three words (tri-gram) combinations.\n",
        "An encoded vector is returned with a length of the entire vocabulary.\n"
      ]
    },
    {
      "cell_type": "code",
      "metadata": {
        "id": "pXDCM5oNMQzX",
        "colab_type": "code",
        "outputId": "648f5f1d-b0e3-446a-f22a-0f716e9ae472",
        "colab": {
          "base_uri": "https://localhost:8080/",
          "height": 187
        }
      },
      "source": [
        "list(cv.vocabulary_.keys())[:10]"
      ],
      "execution_count": 17,
      "outputs": [
        {
          "output_type": "execute_result",
          "data": {
            "text/plain": [
              "['lee',\n",
              " 'tilford',\n",
              " 'agency',\n",
              " 'looking',\n",
              " 'bring',\n",
              " 'additional',\n",
              " 'person',\n",
              " 'board',\n",
              " 'full',\n",
              " 'time']"
            ]
          },
          "metadata": {
            "tags": []
          },
          "execution_count": 17
        }
      ]
    },
    {
      "cell_type": "markdown",
      "metadata": {
        "id": "ZZr6ucLBMPY3",
        "colab_type": "text"
      },
      "source": [
        "##Visualize top N uni-grams, bi-grams & tri-grams\n",
        "We can use the CountVectoriser to visualise the top 20 unigrams, bi-grams and tri-grams."
      ]
    },
    {
      "cell_type": "code",
      "metadata": {
        "id": "4pMkuAdRMQI3",
        "colab_type": "code",
        "outputId": "be55be1a-79bd-4209-d19a-19372b8e550b",
        "colab": {
          "base_uri": "https://localhost:8080/",
          "height": 884
        }
      },
      "source": [
        "#Most frequently occuring words\n",
        "def get_top_n_words(corpus, n=None):\n",
        "    vec = CountVectorizer().fit(corpus)\n",
        "    bag_of_words = vec.transform(corpus)\n",
        "    sum_words = bag_of_words.sum(axis=0) \n",
        "    words_freq = [(word, sum_words[0, idx]) for word, idx in      \n",
        "                   vec.vocabulary_.items()]\n",
        "    words_freq =sorted(words_freq, key = lambda x: x[1], \n",
        "                       reverse=True)\n",
        "    return words_freq[:n]\n",
        "#Convert most freq words to dataframe for plotting bar plot\n",
        "top_words = get_top_n_words(corpus, n=20)\n",
        "top_df = pandas.DataFrame(top_words)\n",
        "top_df.columns=[\"Word\", \"Freq\"]\n",
        "#Barplot of most freq words\n",
        "import seaborn as sns\n",
        "sns.set(rc={'figure.figsize':(13,8)})\n",
        "g = sns.barplot(x=\"Word\", y=\"Freq\", data=top_df)\n",
        "g.set_xticklabels(g.get_xticklabels(), rotation=30)"
      ],
      "execution_count": 18,
      "outputs": [
        {
          "output_type": "execute_result",
          "data": {
            "text/plain": [
              "[Text(0, 0, 'experience'),\n",
              " Text(0, 0, 'web'),\n",
              " Text(0, 0, 'team'),\n",
              " Text(0, 0, 'work'),\n",
              " Text(0, 0, 'development'),\n",
              " Text(0, 0, 'year'),\n",
              " Text(0, 0, 'design'),\n",
              " Text(0, 0, 'skill'),\n",
              " Text(0, 0, 'application'),\n",
              " Text(0, 0, 'required'),\n",
              " Text(0, 0, 'project'),\n",
              " Text(0, 0, 'developer'),\n",
              " Text(0, 0, 'job'),\n",
              " Text(0, 0, 'company'),\n",
              " Text(0, 0, 'time'),\n",
              " Text(0, 0, 'service'),\n",
              " Text(0, 0, 'system'),\n",
              " Text(0, 0, 'environment'),\n",
              " Text(0, 0, 'knowledge'),\n",
              " Text(0, 0, 'position')]"
            ]
          },
          "metadata": {
            "tags": []
          },
          "execution_count": 18
        },
        {
          "output_type": "display_data",
          "data": {
            "image/png": "[encoded data removed]",
            "text/plain": [
              "<Figure size 936x576 with 1 Axes>"
            ]
          },
          "metadata": {
            "tags": []
          }
        }
      ]
    },
    {
      "cell_type": "code",
      "metadata": {
        "id": "QSuPaLeSMPwV",
        "colab_type": "code",
        "outputId": "85ceb49c-6abb-4135-c45b-cf6b5a97ff87",
        "colab": {
          "base_uri": "https://localhost:8080/",
          "height": 1000
        }
      },
      "source": [
        "#Most frequently occuring Bi-grams\n",
        "def get_top_n2_words(corpus, n=None):\n",
        "    vec1 = CountVectorizer(ngram_range=(2,2),  \n",
        "            max_features=2000).fit(corpus)\n",
        "    bag_of_words = vec1.transform(corpus)\n",
        "    sum_words = bag_of_words.sum(axis=0) \n",
        "    words_freq = [(word, sum_words[0, idx]) for word, idx in     \n",
        "                  vec1.vocabulary_.items()]\n",
        "    words_freq =sorted(words_freq, key = lambda x: x[1], \n",
        "                reverse=True)\n",
        "    return words_freq[:n]\n",
        "top2_words = get_top_n2_words(corpus, n=20)\n",
        "top2_df = pandas.DataFrame(top2_words)\n",
        "top2_df.columns=[\"Bi-gram\", \"Freq\"]\n",
        "print(top2_df)\n",
        "#Barplot of most freq Bi-grams\n",
        "import seaborn as sns\n",
        "sns.set(rc={'figure.figsize':(13,8)})\n",
        "h=sns.barplot(x=\"Bi-gram\", y=\"Freq\", data=top2_df)\n",
        "h.set_xticklabels(h.get_xticklabels(), rotation=45)"
      ],
      "execution_count": 19,
      "outputs": [
        {
          "output_type": "stream",
          "text": [
            "                Bi-gram  Freq\n",
            "0               html cs   149\n",
            "1             front end   140\n",
            "2             full time   138\n",
            "3       year experience   133\n",
            "4         web developer   113\n",
            "5              job type   112\n",
            "6       web development   105\n",
            "7        year preferred    94\n",
            "8             type full    91\n",
            "9       web application    91\n",
            "10  communication skill    75\n",
            "11        cs javascript    73\n",
            "12      bachelor degree    71\n",
            "13      user experience    71\n",
            "14         work closely    69\n",
            "15         ability work    65\n",
            "16          herroom com    65\n",
            "17        work location    64\n",
            "18   experience working    64\n",
            "19           fast paced    62\n"
          ],
          "name": "stdout"
        },
        {
          "output_type": "execute_result",
          "data": {
            "text/plain": [
              "[Text(0, 0, 'html cs'),\n",
              " Text(0, 0, 'front end'),\n",
              " Text(0, 0, 'full time'),\n",
              " Text(0, 0, 'year experience'),\n",
              " Text(0, 0, 'web developer'),\n",
              " Text(0, 0, 'job type'),\n",
              " Text(0, 0, 'web development'),\n",
              " Text(0, 0, 'year preferred'),\n",
              " Text(0, 0, 'type full'),\n",
              " Text(0, 0, 'web application'),\n",
              " Text(0, 0, 'communication skill'),\n",
              " Text(0, 0, 'cs javascript'),\n",
              " Text(0, 0, 'bachelor degree'),\n",
              " Text(0, 0, 'user experience'),\n",
              " Text(0, 0, 'work closely'),\n",
              " Text(0, 0, 'ability work'),\n",
              " Text(0, 0, 'herroom com'),\n",
              " Text(0, 0, 'work location'),\n",
              " Text(0, 0, 'experience working'),\n",
              " Text(0, 0, 'fast paced')]"
            ]
          },
          "metadata": {
            "tags": []
          },
          "execution_count": 19
        },
        {
          "output_type": "display_data",
          "data": {
            "image/png": "[encoded data removed]",
            "text/plain": [
              "<Figure size 936x576 with 1 Axes>"
            ]
          },
          "metadata": {
            "tags": []
          }
        }
      ]
    },
    {
      "cell_type": "code",
      "metadata": {
        "id": "MsfgC6m-MwZQ",
        "colab_type": "code",
        "outputId": "a376ec5b-eb89-428a-a8ac-db40647d5f08",
        "colab": {
          "base_uri": "https://localhost:8080/",
          "height": 1000
        }
      },
      "source": [
        "#Most frequently occuring Tri-grams\n",
        "def get_top_n3_words(corpus, n=None):\n",
        "    vec1 = CountVectorizer(ngram_range=(3,3), \n",
        "           max_features=2000).fit(corpus)\n",
        "    bag_of_words = vec1.transform(corpus)\n",
        "    sum_words = bag_of_words.sum(axis=0) \n",
        "    words_freq = [(word, sum_words[0, idx]) for word, idx in     \n",
        "                  vec1.vocabulary_.items()]\n",
        "    words_freq =sorted(words_freq, key = lambda x: x[1], \n",
        "                reverse=True)\n",
        "    return words_freq[:n]\n",
        "top3_words = get_top_n3_words(corpus, n=20)\n",
        "top3_df = pandas.DataFrame(top3_words)\n",
        "top3_df.columns=[\"Tri-gram\", \"Freq\"]\n",
        "print(top3_df)\n",
        "#Barplot of most freq Tri-grams\n",
        "import seaborn as sns\n",
        "sns.set(rc={'figure.figsize':(13,8)})\n",
        "j=sns.barplot(x=\"Tri-gram\", y=\"Freq\", data=top3_df)\n",
        "j.set_xticklabels(j.get_xticklabels(), rotation=45)"
      ],
      "execution_count": 20,
      "outputs": [
        {
          "output_type": "stream",
          "text": [
            "                       Tri-gram  Freq\n",
            "0                type full time    91\n",
            "1                 job type full    90\n",
            "2            html cs javascript    68\n",
            "3              full time salary    41\n",
            "4              time salary year    41\n",
            "5       degree computer science    35\n",
            "6        work location location    35\n",
            "7        web developer position    34\n",
            "8        salary year experience    34\n",
            "9        fast paced environment    33\n",
            "10     experience relevant year    29\n",
            "11      relevant year preferred    29\n",
            "12    company describes culture    29\n",
            "13        front end development    29\n",
            "14         full time experience    28\n",
            "15  communication skill written    28\n",
            "16     across multiple platform    27\n",
            "17      year preferred location    26\n",
            "18        hana maintain develop    26\n",
            "19          email web developer    26\n"
          ],
          "name": "stdout"
        },
        {
          "output_type": "execute_result",
          "data": {
            "text/plain": [
              "[Text(0, 0, 'type full time'),\n",
              " Text(0, 0, 'job type full'),\n",
              " Text(0, 0, 'html cs javascript'),\n",
              " Text(0, 0, 'full time salary'),\n",
              " Text(0, 0, 'time salary year'),\n",
              " Text(0, 0, 'degree computer science'),\n",
              " Text(0, 0, 'work location location'),\n",
              " Text(0, 0, 'web developer position'),\n",
              " Text(0, 0, 'salary year experience'),\n",
              " Text(0, 0, 'fast paced environment'),\n",
              " Text(0, 0, 'experience relevant year'),\n",
              " Text(0, 0, 'relevant year preferred'),\n",
              " Text(0, 0, 'company describes culture'),\n",
              " Text(0, 0, 'front end development'),\n",
              " Text(0, 0, 'full time experience'),\n",
              " Text(0, 0, 'communication skill written'),\n",
              " Text(0, 0, 'across multiple platform'),\n",
              " Text(0, 0, 'year preferred location'),\n",
              " Text(0, 0, 'hana maintain develop'),\n",
              " Text(0, 0, 'email web developer')]"
            ]
          },
          "metadata": {
            "tags": []
          },
          "execution_count": 20
        },
        {
          "output_type": "display_data",
          "data": {
            "image/png": "[encoded data removed]",
            "text/plain": [
              "<Figure size 936x576 with 1 Axes>"
            ]
          },
          "metadata": {
            "tags": []
          }
        }
      ]
    },
    {
      "cell_type": "markdown",
      "metadata": {
        "id": "o7MQ-sTwMwER",
        "colab_type": "text"
      },
      "source": [
        "#Converting to a matrix of integers\n",
        "The next step of refining the word counts is using the TF-IDF vectoriser. The deficiency of a mere word count obtained from the countVectoriser is that, large counts of certain common words may dilute the impact of more context specific words in the corpus. This is overcome by the TF-IDF vectoriser which penalizes words that appear several times across the document. TF-IDF are word frequency scores that highlight words that are more important to the context rather than those that appear frequently across documents.\n",
        "\n",
        "TF-IDF consists of 2 components:\n",
        "\n",
        "TF — term frequency\n",
        "\n",
        "IDF — Inverse document frequency\n",
        "![alt text](https://miro.medium.com/max/700/1*H0aRm_BHC_3QZIopp1iMcQ.png)\n"
      ]
    },
    {
      "cell_type": "code",
      "metadata": {
        "id": "etBCGYYnMv1r",
        "colab_type": "code",
        "colab": {}
      },
      "source": [
        "from sklearn.feature_extraction.text import TfidfTransformer\n",
        " \n",
        "tfidf_transformer=TfidfTransformer(smooth_idf=True,use_idf=True)\n",
        "tfidf_transformer.fit(X)\n",
        "# get feature names\n",
        "feature_names=cv.get_feature_names()\n",
        " \n",
        "# fetch document for which keywords needs to be extracted\n",
        "doc=corpus[200]\n",
        "\n",
        "#generate tf-idf for the given document\n",
        "tf_idf_vector=tfidf_transformer.transform(cv.transform([doc]))"
      ],
      "execution_count": 0,
      "outputs": []
    },
    {
      "cell_type": "markdown",
      "metadata": {
        "id": "blXe3NV7NjZA",
        "colab_type": "text"
      },
      "source": [
        "Based on the TF-IDF scores, we can extract the words with the highest scores to get the keywords for a document."
      ]
    },
    {
      "cell_type": "code",
      "metadata": {
        "id": "6tFHs0f1NPya",
        "colab_type": "code",
        "colab": {
          "base_uri": "https://localhost:8080/",
          "height": 156
        },
        "outputId": "f8647d2e-9d7c-4615-fda6-e167ad141111"
      },
      "source": [
        "#Function for sorting tf_idf in descending order\n",
        "from scipy.sparse import coo_matrix\n",
        "def sort_coo(coo_matrix):\n",
        "    tuples = zip(coo_matrix.col, coo_matrix.data)\n",
        "    return sorted(tuples, key=lambda x: (x[1], x[0]), reverse=True)\n",
        "  \n",
        "def extract_topn_from_vector(feature_names, sorted_items, topn=10):\n",
        "    \"\"\"get the feature names and tf-idf score of top n items\"\"\"\n",
        "    \n",
        "    #use only topn items from vector\n",
        "    sorted_items = sorted_items[:topn]\n",
        "    score_vals = []\n",
        "    feature_vals = []\n",
        "    \n",
        "    # word index and corresponding tf-idf score\n",
        "    for idx, score in sorted_items:\n",
        "        \n",
        "        #keep track of feature name and its corresponding score\n",
        "        score_vals.append(round(score, 3))\n",
        "        feature_vals.append(feature_names[idx])\n",
        "    #create a tuples of feature,score\n",
        "    #results = zip(feature_vals,score_vals)\n",
        "    results= {}\n",
        "    for idx in range(len(feature_vals)):\n",
        "        results[feature_vals[idx]]=score_vals[idx]\n",
        "    \n",
        "    return results\n",
        "#sort the tf-idf vectors by descending order of scores\n",
        "sorted_items=sort_coo(tf_idf_vector.tocoo())\n",
        "#extract only the top n; n here is 10\n",
        "keywords=extract_topn_from_vector(feature_names,sorted_items,2)\n",
        "\n",
        "# now print the results\n",
        "print(\"\\npost:\")\n",
        "print(doc)\n",
        "print(\"\\nKeywords:\")\n",
        "for k in keywords:\n",
        "    print(k,keywords[k])"
      ],
      "execution_count": 27,
      "outputs": [
        {
          "output_type": "stream",
          "text": [
            "\n",
            "post:\n",
            "looking entry level junior level programmer join engineering team programmer develop web application php linux mysql apache framework job type full time location milpitas ca requirement\n",
            "\n",
            "Keywords:\n",
            "programmer 0.432\n",
            "ca 0.268\n"
          ],
          "name": "stdout"
        }
      ]
    },
    {
      "cell_type": "code",
      "metadata": {
        "id": "MVvCOrnm7U8A",
        "colab_type": "code",
        "colab": {}
      },
      "source": [
        "keys = []\n",
        "for doc in corpus:\n",
        "  tf_idf_vector = tfidf_transformer.transform(cv.transform([doc]))\n",
        "  sorted_items = sort_coo(tf_idf_vector.tocoo())\n",
        "  keywords = extract_topn_from_vector(feature_names,sorted_items,10)\n",
        "  keys += keywords"
      ],
      "execution_count": 0,
      "outputs": []
    },
    {
      "cell_type": "code",
      "metadata": {
        "id": "ejY7wB4V9AnL",
        "colab_type": "code",
        "colab": {
          "base_uri": "https://localhost:8080/",
          "height": 34
        },
        "outputId": "6ad8273e-1d13-45ac-e6c7-332386118d49"
      },
      "source": [
        "len(keys)"
      ],
      "execution_count": 37,
      "outputs": [
        {
          "output_type": "execute_result",
          "data": {
            "text/plain": [
              "2446"
            ]
          },
          "metadata": {
            "tags": []
          },
          "execution_count": 37
        }
      ]
    },
    {
      "cell_type": "code",
      "metadata": {
        "id": "WpIAaNaE9i-w",
        "colab_type": "code",
        "colab": {
          "base_uri": "https://localhost:8080/",
          "height": 1000
        },
        "outputId": "cd22458b-cd5c-4dd3-9c11-b18486ba05a7"
      },
      "source": [
        "keys"
      ],
      "execution_count": 38,
      "outputs": [
        {
          "output_type": "execute_result",
          "data": {
            "text/plain": [
              "['plugins',\n",
              " 'position',\n",
              " 'woo commerce',\n",
              " 'woo',\n",
              " 'tilford agency',\n",
              " 'tilford',\n",
              " 'lee tilford agency',\n",
              " 'lee tilford',\n",
              " 'lee',\n",
              " 'agency',\n",
              " 'cruise line',\n",
              " 'cruise',\n",
              " 'web project',\n",
              " 'line',\n",
              " 'website ecommerce platform',\n",
              " 'website ecommerce',\n",
              " 'web project role',\n",
              " 'web project designed',\n",
              " 'web development project',\n",
              " 'usability customer satisfaction',\n",
              " 'aura',\n",
              " 'stsci',\n",
              " 'outreach',\n",
              " 'diversity',\n",
              " 'telescope',\n",
              " 'space telescope',\n",
              " 'space',\n",
              " 'public outreach',\n",
              " 'jahia',\n",
              " 'scientific',\n",
              " 'say',\n",
              " 'international',\n",
              " 'asking',\n",
              " 'pas',\n",
              " 'extreme',\n",
              " 'get',\n",
              " 'follow',\n",
              " 'group',\n",
              " 'update',\n",
              " 'make',\n",
              " 'rsa',\n",
              " 'dell',\n",
              " 'content',\n",
              " 'cybersecurity',\n",
              " 'business',\n",
              " 'status',\n",
              " 'adobe experience manager',\n",
              " 'adobe experience',\n",
              " 'discrimination',\n",
              " 'experience manager',\n",
              " 'access',\n",
              " 'salt lake city',\n",
              " 'salt lake',\n",
              " 'lake city',\n",
              " 'lake',\n",
              " 'intern front end',\n",
              " 'intern front',\n",
              " 'salt',\n",
              " 'front',\n",
              " 'intern',\n",
              " 'mcafee',\n",
              " 'page',\n",
              " 'security',\n",
              " 'web page',\n",
              " 'cart',\n",
              " 'status',\n",
              " 'adobe experience manager',\n",
              " 'adobe experience',\n",
              " 'threat',\n",
              " 'worked',\n",
              " 'another',\n",
              " 'application',\n",
              " 'solving',\n",
              " 'code',\n",
              " 'beyond',\n",
              " 'web application developer',\n",
              " 'existing application',\n",
              " 'command line',\n",
              " 'whether',\n",
              " 'smooth',\n",
              " 'hana',\n",
              " 'sap',\n",
              " 'cloud',\n",
              " 'bn',\n",
              " 'suse',\n",
              " 'sap hana',\n",
              " 'sap business',\n",
              " 'maintain',\n",
              " 'required',\n",
              " 'compensation',\n",
              " 'plugins',\n",
              " 'position',\n",
              " 'woo commerce',\n",
              " 'woo',\n",
              " 'tilford agency',\n",
              " 'tilford',\n",
              " 'lee tilford agency',\n",
              " 'lee tilford',\n",
              " 'lee',\n",
              " 'agency',\n",
              " 'press',\n",
              " 'heat',\n",
              " 'press operator',\n",
              " 'operator',\n",
              " 'set',\n",
              " 'heat set',\n",
              " 'web press',\n",
              " 'cold set',\n",
              " 'cold',\n",
              " 'run',\n",
              " 'aura',\n",
              " 'stsci',\n",
              " 'outreach',\n",
              " 'diversity',\n",
              " 'telescope',\n",
              " 'space telescope',\n",
              " 'space',\n",
              " 'public outreach',\n",
              " 'jahia',\n",
              " 'scientific',\n",
              " 'validated',\n",
              " 'testing web',\n",
              " 'co',\n",
              " 'angular',\n",
              " 'agile',\n",
              " 'material',\n",
              " 'test automation',\n",
              " 'material design',\n",
              " 'interface development',\n",
              " 'development concept',\n",
              " 'classroom',\n",
              " 'class',\n",
              " 'since',\n",
              " 'lesson plan',\n",
              " 'lesson',\n",
              " 'program',\n",
              " 'support',\n",
              " 'least',\n",
              " 'trilogy education',\n",
              " 'javascript',\n",
              " 'hana',\n",
              " 'sap',\n",
              " 'cloud',\n",
              " 'bn',\n",
              " 'suse',\n",
              " 'sap hana',\n",
              " 'sap business',\n",
              " 'maintain',\n",
              " 'required',\n",
              " 'compensation',\n",
              " 'york',\n",
              " 'model',\n",
              " 'financial',\n",
              " 'modeling',\n",
              " 'utilizing',\n",
              " 'senior',\n",
              " 'com career',\n",
              " 'including',\n",
              " 'please',\n",
              " 'related field year',\n",
              " 'wilmington nc',\n",
              " 'wilmington',\n",
              " 'nationally',\n",
              " 'nc',\n",
              " 'firm',\n",
              " 'find',\n",
              " 'fun',\n",
              " 'potential',\n",
              " 'loyalty',\n",
              " 'hardworking',\n",
              " 'hana',\n",
              " 'sap',\n",
              " 'cloud',\n",
              " 'bn',\n",
              " 'suse',\n",
              " 'sap hana',\n",
              " 'sap business',\n",
              " 'maintain',\n",
              " 'required',\n",
              " 'compensation',\n",
              " 'lg',\n",
              " 'content',\n",
              " 'electronics',\n",
              " 'product',\n",
              " 'usa',\n",
              " 'customer',\n",
              " 'metric',\n",
              " 'support',\n",
              " 'web content',\n",
              " 'usa inc lg',\n",
              " 'plugins',\n",
              " 'position',\n",
              " 'woo commerce',\n",
              " 'woo',\n",
              " 'tilford agency',\n",
              " 'tilford',\n",
              " 'lee tilford agency',\n",
              " 'lee tilford',\n",
              " 'lee',\n",
              " 'agency',\n",
              " 'web site',\n",
              " 'corporate',\n",
              " 'administration',\n",
              " 'site',\n",
              " 'ssl',\n",
              " 'deployment',\n",
              " 'relevant work',\n",
              " 'ftp',\n",
              " 'computer',\n",
              " 'operate',\n",
              " 'tomcat',\n",
              " 'strong knowledge',\n",
              " 'application',\n",
              " 'apache tomcat',\n",
              " 'modify',\n",
              " 'java',\n",
              " 'apache',\n",
              " 'testing',\n",
              " 'data',\n",
              " 'knowledge',\n",
              " 'csu',\n",
              " 'university',\n",
              " 'state',\n",
              " 'check',\n",
              " 'special',\n",
              " 'employment',\n",
              " 'background check',\n",
              " 'application',\n",
              " 'state university',\n",
              " 'incumbent',\n",
              " 'outcome',\n",
              " 'fire',\n",
              " 'year relevant',\n",
              " 'client',\n",
              " 'varied',\n",
              " 'internal',\n",
              " 'worked',\n",
              " 'deck',\n",
              " 'website development',\n",
              " 'design',\n",
              " 'described',\n",
              " 'community',\n",
              " 'centered',\n",
              " 'activity',\n",
              " 'year experience',\n",
              " 'area',\n",
              " 'equivalent',\n",
              " 'duty',\n",
              " 'high school',\n",
              " 'experience equivalent',\n",
              " 'aura',\n",
              " 'stsci',\n",
              " 'outreach',\n",
              " 'diversity',\n",
              " 'telescope',\n",
              " 'space telescope',\n",
              " 'space',\n",
              " 'public outreach',\n",
              " 'jahia',\n",
              " 'scientific',\n",
              " 'web team',\n",
              " 'team',\n",
              " 'step',\n",
              " 'fast',\n",
              " 'team leader',\n",
              " 'assessment',\n",
              " 'interested',\n",
              " 'oriented',\n",
              " 'drive project completion',\n",
              " 'delegate',\n",
              " 'funnel',\n",
              " 'web page',\n",
              " 'page',\n",
              " 'etc',\n",
              " 'design',\n",
              " 'element',\n",
              " 'still',\n",
              " 'sale',\n",
              " 'web page element',\n",
              " 'tech related',\n",
              " 'brand',\n",
              " 'packaging',\n",
              " 'packaging design',\n",
              " 'gib',\n",
              " 'development packaging design',\n",
              " 'development packaging',\n",
              " 'client',\n",
              " 'wordpress squarespace',\n",
              " 'squarespace',\n",
              " 'wide',\n",
              " 'pm',\n",
              " 'grade',\n",
              " 'student',\n",
              " 'start',\n",
              " 'web design',\n",
              " 'hour',\n",
              " 'year class description',\n",
              " 'year class',\n",
              " 'wireframing template moqups',\n",
              " 'wireframing template',\n",
              " 'digital',\n",
              " 'creative',\n",
              " 'coding',\n",
              " 'excellence',\n",
              " 'client',\n",
              " 'website',\n",
              " 'assist',\n",
              " 'want',\n",
              " 'want help',\n",
              " 'persistent',\n",
              " 'pomona',\n",
              " 'college',\n",
              " 'pomona college',\n",
              " 'assist',\n",
              " 'hour',\n",
              " 'submit',\n",
              " 'site',\n",
              " 'ged',\n",
              " 'diploma',\n",
              " 'combination education',\n",
              " 'fill',\n",
              " 'website design',\n",
              " 'qualified candidate',\n",
              " 'among',\n",
              " 'prototype',\n",
              " 'web designer',\n",
              " 'jr',\n",
              " 'medium',\n",
              " 'simple',\n",
              " 'qualified',\n",
              " 'viewstub',\n",
              " 'creator',\n",
              " 'stream',\n",
              " 'limited',\n",
              " 'video',\n",
              " 'anywhere',\n",
              " 'control',\n",
              " 'access',\n",
              " 'including limited',\n",
              " 'actually',\n",
              " 'client',\n",
              " 'solution',\n",
              " 'commitment',\n",
              " 'protected veteran',\n",
              " 'information technology',\n",
              " 'analyzing',\n",
              " 'timely',\n",
              " 'essential function',\n",
              " 'government',\n",
              " 'development',\n",
              " 'sock',\n",
              " 'direct consumer',\n",
              " 'darn tough',\n",
              " 'darn',\n",
              " 'tough',\n",
              " 'direct',\n",
              " 'vermont',\n",
              " 'tough vermont',\n",
              " 'position job',\n",
              " 'darn tough vermont',\n",
              " 'simon',\n",
              " 'financial',\n",
              " 'team',\n",
              " 'design',\n",
              " 'sketch invision',\n",
              " 'invision',\n",
              " 'simon market',\n",
              " 'fintech',\n",
              " 'financial product',\n",
              " 'financial advisor',\n",
              " 'ccc',\n",
              " 'program',\n",
              " 'employee',\n",
              " 'chicago',\n",
              " 'developing web application',\n",
              " 'developing web',\n",
              " 'healthy',\n",
              " 'angular',\n",
              " 'framework',\n",
              " 'experience developing',\n",
              " 'apple',\n",
              " 'business intelligence',\n",
              " 'idea',\n",
              " 'intelligence',\n",
              " 'data',\n",
              " 'could',\n",
              " 'world',\n",
              " 'store',\n",
              " 'processing',\n",
              " 'kind',\n",
              " 'siriusxm',\n",
              " 'streaming',\n",
              " 'internship',\n",
              " 'intern',\n",
              " 'product',\n",
              " 'product manager',\n",
              " 'feature',\n",
              " 'product management',\n",
              " 'video',\n",
              " 'skill',\n",
              " 'digital',\n",
              " 'digital marketing',\n",
              " 'power',\n",
              " 'agency',\n",
              " 'wordpress web',\n",
              " 'marketing',\n",
              " 'grow',\n",
              " 'san diego',\n",
              " 'diego',\n",
              " 'san',\n",
              " 'aura',\n",
              " 'stsci',\n",
              " 'outreach',\n",
              " 'diversity',\n",
              " 'telescope',\n",
              " 'space telescope',\n",
              " 'space',\n",
              " 'public outreach',\n",
              " 'jahia',\n",
              " 'scientific',\n",
              " 'austin',\n",
              " 'year preferred',\n",
              " 'must',\n",
              " 'letter',\n",
              " 'cover letter',\n",
              " 'cover',\n",
              " 'team',\n",
              " 'preferred',\n",
              " 'developer',\n",
              " 'net',\n",
              " 'familyzone io',\n",
              " 'familyzone',\n",
              " 'aws',\n",
              " 'cloud',\n",
              " 'operational',\n",
              " 'system',\n",
              " 'point',\n",
              " 'school',\n",
              " 'traded',\n",
              " 'school district',\n",
              " 'plugins',\n",
              " 'position',\n",
              " 'woo commerce',\n",
              " 'woo',\n",
              " 'tilford agency',\n",
              " 'tilford',\n",
              " 'lee tilford agency',\n",
              " 'lee tilford',\n",
              " 'lee',\n",
              " 'agency',\n",
              " 'sharp',\n",
              " 'healthcare',\n",
              " 'ranked',\n",
              " 'hospital',\n",
              " 'system',\n",
              " 'system service',\n",
              " 'development',\n",
              " 'department',\n",
              " 'technology',\n",
              " 'http www',\n",
              " 'hair club',\n",
              " 'club',\n",
              " 'hair',\n",
              " 'including limited',\n",
              " 'diagram',\n",
              " 'day',\n",
              " 'project',\n",
              " 'limited',\n",
              " 'tenure',\n",
              " 'manages',\n",
              " 'lg',\n",
              " 'content',\n",
              " 'product',\n",
              " 'customer',\n",
              " 'metric',\n",
              " 'support',\n",
              " 'web content',\n",
              " 'web content analyst',\n",
              " 'related data',\n",
              " 'make life',\n",
              " 'project',\n",
              " 'marketing',\n",
              " 'project management',\n",
              " 'marketing commerce',\n",
              " 'digital marketing',\n",
              " 'digital',\n",
              " 'management system',\n",
              " 'manager web',\n",
              " 'coordination',\n",
              " 'client',\n",
              " 'north face',\n",
              " 'face',\n",
              " 'north',\n",
              " 'digital',\n",
              " 'interactive',\n",
              " 'exploration',\n",
              " 'brand',\n",
              " 'vf',\n",
              " 'interactive web developer',\n",
              " 'interactive web',\n",
              " 'hana',\n",
              " 'sap',\n",
              " 'cloud',\n",
              " 'bn',\n",
              " 'suse',\n",
              " 'sap hana',\n",
              " 'sap business',\n",
              " 'maintain',\n",
              " 'required',\n",
              " 'compensation',\n",
              " 'herroom com',\n",
              " 'herroom',\n",
              " 'com',\n",
              " 'email',\n",
              " 'lingerie',\n",
              " 'coding',\n",
              " 'marketing',\n",
              " 'aspx',\n",
              " 'website',\n",
              " 'clean',\n",
              " 'rihousing',\n",
              " 'rhode',\n",
              " 'housing',\n",
              " 'web application developer',\n",
              " 'application developer',\n",
              " 'system',\n",
              " 'island',\n",
              " 'custom',\n",
              " 'application',\n",
              " 'business process',\n",
              " 'north face',\n",
              " 'face',\n",
              " 'north',\n",
              " 'digital',\n",
              " 'interactive',\n",
              " 'exploration',\n",
              " 'brand',\n",
              " 'vf',\n",
              " 'interactive web developer',\n",
              " 'interactive web',\n",
              " 'near',\n",
              " 'smart contract',\n",
              " 'smart',\n",
              " 'contract',\n",
              " 'decentralized',\n",
              " 'stack',\n",
              " 'startup',\n",
              " 'key',\n",
              " 'near near',\n",
              " 'explorer',\n",
              " 'software',\n",
              " 'development',\n",
              " 'software development',\n",
              " 'affordable',\n",
              " 'able',\n",
              " 'success',\n",
              " 'technology stack',\n",
              " 'savvy',\n",
              " 'exceptional',\n",
              " 'towards',\n",
              " 'complexity',\n",
              " 'medium',\n",
              " 'area',\n",
              " 'consultant',\n",
              " 'logic',\n",
              " 'module',\n",
              " 'depth knowledge',\n",
              " 'required job',\n",
              " 'sized',\n",
              " 'amazon web service',\n",
              " 'familyzone io',\n",
              " 'familyzone',\n",
              " 'aws',\n",
              " 'cloud',\n",
              " 'operational',\n",
              " 'system',\n",
              " 'point',\n",
              " 'school',\n",
              " 'traded',\n",
              " 'school district',\n",
              " 'austin',\n",
              " 'year preferred',\n",
              " 'must',\n",
              " 'letter',\n",
              " 'cover letter',\n",
              " 'cover',\n",
              " 'team',\n",
              " 'preferred',\n",
              " 'developer',\n",
              " 'net',\n",
              " 'herroom com',\n",
              " 'herroom',\n",
              " 'com',\n",
              " 'email',\n",
              " 'lingerie',\n",
              " 'coding',\n",
              " 'marketing',\n",
              " 'aspx',\n",
              " 'website',\n",
              " 'clean',\n",
              " 'web team',\n",
              " 'team',\n",
              " 'step',\n",
              " 'fast',\n",
              " 'team leader',\n",
              " 'assessment',\n",
              " 'interested',\n",
              " 'oriented',\n",
              " 'drive project completion',\n",
              " 'delegate',\n",
              " 'fully',\n",
              " 'contract',\n",
              " 'website',\n",
              " 'remote',\n",
              " 'type contract experience',\n",
              " 'specializing',\n",
              " 'extra',\n",
              " 'contract renewal',\n",
              " 'contract experience',\n",
              " 'creative',\n",
              " 'game',\n",
              " 'organization',\n",
              " 'staying',\n",
              " 'including limited',\n",
              " 'technology',\n",
              " 'position work',\n",
              " 'evening weekend',\n",
              " 'technology related',\n",
              " 'related project',\n",
              " 'evening',\n",
              " 'socius',\n",
              " 'wordpress theme',\n",
              " 'client',\n",
              " 'firm',\n",
              " 'wordpress',\n",
              " 'marketing',\n",
              " 'theme',\n",
              " 'understanding',\n",
              " 'team',\n",
              " 'perform',\n",
              " 'commerce',\n",
              " 'designing',\n",
              " 'effective communicator',\n",
              " 'extremely',\n",
              " 'extensive knowledge',\n",
              " 'website',\n",
              " 'communicator',\n",
              " 'extensive',\n",
              " 'shopify',\n",
              " 'commerce website',\n",
              " 'insurance paid',\n",
              " 'paid',\n",
              " 'insurance',\n",
              " 'short long term',\n",
              " 'short long',\n",
              " 'developer year',\n",
              " 'applicant must',\n",
              " 'development best practice',\n",
              " 'term disability',\n",
              " 'long term disability',\n",
              " 'fjorge',\n",
              " 'nature',\n",
              " 'cm',\n",
              " 'client',\n",
              " 'curious nature',\n",
              " 'backend',\n",
              " 'cm platform',\n",
              " 'plus',\n",
              " 'teammate',\n",
              " 'plus experience',\n",
              " 'laser',\n",
              " 'removal',\n",
              " 'milan',\n",
              " 'laser hair removal',\n",
              " 'laser hair',\n",
              " 'hair removal',\n",
              " 'hair',\n",
              " 'banner',\n",
              " 'graphic',\n",
              " 'content',\n",
              " 'pm',\n",
              " 'grade',\n",
              " 'student',\n",
              " 'start',\n",
              " 'web design',\n",
              " 'hour',\n",
              " 'year class description',\n",
              " 'year class',\n",
              " 'wireframing template moqups',\n",
              " 'wireframing template',\n",
              " 'end',\n",
              " 'wordpress',\n",
              " 'knowledge',\n",
              " 'securedata com',\n",
              " 'securedata',\n",
              " 'cleveland',\n",
              " 'front end',\n",
              " 'front',\n",
              " 'understanding',\n",
              " 'typical',\n",
              " 'employer',\n",
              " 'thousand employer search',\n",
              " 'thousand employer',\n",
              " 'search candidate indeed',\n",
              " 'search candidate',\n",
              " 'let employer find',\n",
              " 'let employer',\n",
              " 'indeed',\n",
              " 'find thousand employer',\n",
              " 'find thousand',\n",
              " 'software application',\n",
              " 'seasoned',\n",
              " 'application',\n",
              " 'shift',\n",
              " 'software',\n",
              " 'minimal',\n",
              " 'experience net',\n",
              " 'direct',\n",
              " 'activity',\n",
              " 'technical',\n",
              " 'donor',\n",
              " 'giving',\n",
              " 'online giving',\n",
              " 'online',\n",
              " 'fundraising',\n",
              " 'ynhh',\n",
              " 'raiser edge',\n",
              " 'raiser',\n",
              " 'mail',\n",
              " 'content',\n",
              " 'university',\n",
              " 'division',\n",
              " 'advancement',\n",
              " 'web application developer',\n",
              " 'faculty',\n",
              " 'application support',\n",
              " 'web application',\n",
              " 'application developer',\n",
              " 'associate',\n",
              " 'support',\n",
              " 'front end',\n",
              " 'end',\n",
              " 'front',\n",
              " 'template',\n",
              " 'staying',\n",
              " 'interesting',\n",
              " 'team work closely',\n",
              " 'front end code',\n",
              " 'end code',\n",
              " 'candidate',\n",
              " 'austin',\n",
              " 'year preferred',\n",
              " 'must',\n",
              " 'letter',\n",
              " 'cover letter',\n",
              " 'cover',\n",
              " 'team',\n",
              " 'preferred',\n",
              " 'developer',\n",
              " 'net',\n",
              " 'herroom com',\n",
              " 'herroom',\n",
              " 'com',\n",
              " 'email',\n",
              " 'lingerie',\n",
              " 'coding',\n",
              " 'marketing',\n",
              " 'aspx',\n",
              " 'website',\n",
              " 'clean',\n",
              " 'cruise line',\n",
              " 'cruise',\n",
              " 'web project',\n",
              " 'line',\n",
              " 'website ecommerce platform',\n",
              " 'website ecommerce',\n",
              " 'web project role',\n",
              " 'web project designed',\n",
              " 'web development project',\n",
              " 'usability customer satisfaction',\n",
              " 'basic understanding',\n",
              " 'principle',\n",
              " 'basic',\n",
              " 'drupal',\n",
              " 'analysis',\n",
              " 'skill knowledge',\n",
              " 'development',\n",
              " 'required experience',\n",
              " 'influence',\n",
              " 'understanding',\n",
              " 'robin',\n",
              " 'healthcare',\n",
              " 'patient',\n",
              " 'device',\n",
              " 'hard',\n",
              " 'processing',\n",
              " 'dress',\n",
              " 'machine learning',\n",
              " 'learning',\n",
              " 'ca',\n",
              " 'brand',\n",
              " 'side',\n",
              " 'ability influence',\n",
              " 'web dev',\n",
              " 'design team',\n",
              " 'help client',\n",
              " 'team web',\n",
              " 'influence',\n",
              " 'ground',\n",
              " 'account',\n",
              " 'antioch',\n",
              " 'marketing director',\n",
              " 'antioch university',\n",
              " 'wordpress',\n",
              " 'university',\n",
              " 'design',\n",
              " 'ability',\n",
              " 'practice',\n",
              " 'director',\n",
              " 'best practice',\n",
              " 'hana',\n",
              " 'sap',\n",
              " 'cloud',\n",
              " 'bn',\n",
              " 'suse',\n",
              " 'sap hana',\n",
              " 'sap business',\n",
              " 'maintain',\n",
              " 'required',\n",
              " 'compensation',\n",
              " 'herroom com',\n",
              " 'herroom',\n",
              " 'com',\n",
              " 'email',\n",
              " 'lingerie',\n",
              " 'coding',\n",
              " 'marketing',\n",
              " 'aspx',\n",
              " 'website',\n",
              " 'clean',\n",
              " 'careworks',\n",
              " 'careworks tech',\n",
              " 'tech',\n",
              " 'service',\n",
              " 'career',\n",
              " 'agile environment',\n",
              " 'owned',\n",
              " 'development',\n",
              " 'application',\n",
              " 'environment',\n",
              " 'spark',\n",
              " 'verizon medium',\n",
              " 'verizon',\n",
              " 'data',\n",
              " 'medium',\n",
              " 'big data',\n",
              " 'scala',\n",
              " 'hadoop',\n",
              " 'ai',\n",
              " 'big',\n",
              " 'automation',\n",
              " 'automation framework',\n",
              " 'testing',\n",
              " 'qa',\n",
              " 'test',\n",
              " 'selenium',\n",
              " 'script',\n",
              " 'software',\n",
              " 'development',\n",
              " 'framework',\n",
              " 'revelex',\n",
              " 'release engineer',\n",
              " 'release',\n",
              " 'vacation sick',\n",
              " 'opportunity grow',\n",
              " 'dynamic company',\n",
              " 'engineer',\n",
              " 'including company paid',\n",
              " 'including company',\n",
              " 'corporation',\n",
              " 'student',\n",
              " 'tutor',\n",
              " 'camp',\n",
              " 'boot camp',\n",
              " 'session',\n",
              " 'boot',\n",
              " 'trilogy',\n",
              " 'week',\n",
              " 'better',\n",
              " 'hour',\n",
              " 'familyzone io',\n",
              " 'familyzone',\n",
              " 'aws',\n",
              " 'cloud',\n",
              " 'operational',\n",
              " 'system',\n",
              " 'point',\n",
              " 'school',\n",
              " 'traded',\n",
              " 'school district',\n",
              " 'austin',\n",
              " 'year preferred',\n",
              " 'must',\n",
              " 'letter',\n",
              " 'cover letter',\n",
              " 'cover',\n",
              " 'team',\n",
              " 'preferred',\n",
              " 'developer',\n",
              " 'net',\n",
              " 'herroom com',\n",
              " 'herroom',\n",
              " 'com',\n",
              " 'email',\n",
              " 'lingerie',\n",
              " 'coding',\n",
              " 'marketing',\n",
              " 'aspx',\n",
              " 'website',\n",
              " 'clean',\n",
              " 'web team',\n",
              " 'team',\n",
              " 'step',\n",
              " 'fast',\n",
              " 'team leader',\n",
              " 'assessment',\n",
              " 'interested',\n",
              " 'oriented',\n",
              " 'drive project completion',\n",
              " 'delegate',\n",
              " 'beer',\n",
              " 'craft',\n",
              " 'want',\n",
              " 'looking people',\n",
              " 'job summary',\n",
              " 'right candidate',\n",
              " 'quality',\n",
              " 'working team',\n",
              " 'something',\n",
              " 'roadmap',\n",
              " 'isobar',\n",
              " 'interactive',\n",
              " 'solid knowledge',\n",
              " 'senior interactive developer',\n",
              " 'senior interactive',\n",
              " 'interactive developer',\n",
              " 'optimization',\n",
              " 'technology',\n",
              " 'end',\n",
              " 'optimization tool',\n",
              " 'particularly',\n",
              " 'tool',\n",
              " 'native',\n",
              " 'laravel',\n",
              " 'mobile',\n",
              " 'budget',\n",
              " 'web apps',\n",
              " 'ecommerce',\n",
              " 'expert level',\n",
              " 'web mobile',\n",
              " 'read',\n",
              " 'review',\n",
              " 'people',\n",
              " 'working',\n",
              " 'digital',\n",
              " 'skilled',\n",
              " 'digital agency',\n",
              " 'advertising',\n",
              " 'california',\n",
              " 'supplement',\n",
              " 'simply',\n",
              " 'angular',\n",
              " 'love',\n",
              " 'agency',\n",
              " 'hana',\n",
              " 'sap',\n",
              " 'cloud',\n",
              " 'bn',\n",
              " 'suse',\n",
              " 'sap hana',\n",
              " 'sap business',\n",
              " 'maintain',\n",
              " 'required',\n",
              " 'compensation',\n",
              " 'herroom com',\n",
              " 'herroom',\n",
              " 'com',\n",
              " 'email',\n",
              " 'lingerie',\n",
              " 'coding',\n",
              " 'marketing',\n",
              " 'aspx',\n",
              " 'website',\n",
              " 'clean',\n",
              " 'programmer',\n",
              " 'ca',\n",
              " 'time location',\n",
              " 'full time location',\n",
              " 'engineering team',\n",
              " 'entry level',\n",
              " ...]"
            ]
          },
          "metadata": {
            "tags": []
          },
          "execution_count": 38
        }
      ]
    },
    {
      "cell_type": "code",
      "metadata": {
        "id": "GlmlEY1s-BA8",
        "colab_type": "code",
        "colab": {
          "base_uri": "https://localhost:8080/",
          "height": 238
        },
        "outputId": "44eb43b5-f400-4879-a936-425b2d36e343"
      },
      "source": [
        "% matplotlib inline\n",
        "wordcloud = WordCloud(\n",
        "                          background_color='black',\n",
        "                          max_words=100,\n",
        "                          max_font_size=50, \n",
        "                          random_state=42\n",
        "                         ).generate(str(keys))\n",
        "print(wordcloud)\n",
        "fig = plt.figure(1)\n",
        "plt.imshow(wordcloud)\n",
        "plt.axis('off')\n",
        "plt.show()\n",
        "fig.savefig(\"word1.png\", dpi=900)"
      ],
      "execution_count": 41,
      "outputs": [
        {
          "output_type": "stream",
          "text": [
            "<wordcloud.wordcloud.WordCloud object at 0x7f2b5b751fd0>\n"
          ],
          "name": "stdout"
        },
        {
          "output_type": "display_data",
          "data": {
            "image/png": "[encoded data removed]",
            "text/plain": [
              "<Figure size 432x288 with 1 Axes>"
            ]
          },
          "metadata": {
            "tags": []
          }
        }
      ]
    },
    {
      "cell_type": "markdown",
      "metadata": {
        "id": "nsUdeIjaMu5B",
        "colab_type": "text"
      },
      "source": [
        "#Concluding remarks\n",
        "Ideally for the IDF calculation to be effective, it should be based on a large corpora and a good representative of the text for which the keywords need to be extracted. In our example, if we use the full article text instead of the abstracts, the IDF extraction would be much more effective. However, considering the size of the dataset, I have limited the corpora to just the abstracts for the purpose of demonstration.\n",
        "This is a fairly simple approach to understand fundamental concepts of NLP and to provide a good hands-on practice with some python codes on a real-life use case. The same approach can be used to extract keywords from news feeds & social media feeds."
      ]
    },
    {
      "cell_type": "markdown",
      "metadata": {
        "id": "AwF5dnvXOUmx",
        "colab_type": "text"
      },
      "source": [
        "SOURCE : https://medium.com/analytics-vidhya/automated-keyword-extraction-from-articles-using-nlp-bfd864f41b34\n"
      ]
    }
  ]
}