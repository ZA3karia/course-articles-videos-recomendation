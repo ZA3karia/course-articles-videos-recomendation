{
  "nbformat": 4,
  "nbformat_minor": 0,
  "metadata": {
    "colab": {
      "name": "treating_indeed_dataset.ipynb",
      "provenance": [],
      "collapsed_sections": [],
      "include_colab_link": true
    },
    "kernelspec": {
      "name": "python3",
      "display_name": "Python 3"
    }
  },
  "cells": [
    {
      "cell_type": "markdown",
      "metadata": {
        "id": "view-in-github",
        "colab_type": "text"
      },
      "source": [
        "<a href=\"https://colab.research.google.com/github/ZA3karia/course-articles-videos-recomendation/blob/master/treating_indeed_dataset.ipynb\" target=\"_parent\"><img src=\"https://colab.research.google.com/assets/colab-badge.svg\" alt=\"Open In Colab\"/></a>"
      ]
    },
    {
      "cell_type": "code",
      "metadata": {
        "id": "Pibe5s5RGIND",
        "colab_type": "code",
        "colab": {}
      },
      "source": [
        "from google.colab import drive\n",
        "drive.mount('/content/drive')"
      ],
      "execution_count": 0,
      "outputs": []
    },
    {
      "cell_type": "markdown",
      "metadata": {
        "id": "VcVqHUBBId6c",
        "colab_type": "text"
      },
      "source": [
        "#Importing the dataset\n",
        "The dataset used for this article is a subset of the papers.csv dataset provided in the NIPS paper datasets on Kaggle. Only those rows that contain an abstract have been used. The title and abstract have been concatenated after which the file is saved as a tab separated *.txt file."
      ]
    },
    {
      "cell_type": "code",
      "metadata": {
        "id": "ZN-tb2DUGGrn",
        "colab_type": "code",
        "colab": {}
      },
      "source": [
        ""
      ],
      "execution_count": 0,
      "outputs": []
    },
    {
      "cell_type": "code",
      "metadata": {
        "id": "A9C1bC01Gvvm",
        "colab_type": "code",
        "outputId": "713fa730-e93a-4cd4-d2dc-97def360f5b1",
        "colab": {
          "base_uri": "https://localhost:8080/",
          "height": 459
        }
      },
      "source": [
        "import pandas\n",
        "# load the dataset\n",
        "path = input(\"give me the csv file path :\")\n",
        "dataset = pandas.read_csv(path)\n",
        "dataset.head()"
      ],
      "execution_count": 0,
      "outputs": [
        {
          "output_type": "stream",
          "text": [
            "give me the csv file path :/content/web_dev.csv\n"
          ],
          "name": "stdout"
        },
        {
          "output_type": "execute_result",
          "data": {
            "text/html": [
              "<div>\n",
              "<style scoped>\n",
              "    .dataframe tbody tr th:only-of-type {\n",
              "        vertical-align: middle;\n",
              "    }\n",
              "\n",
              "    .dataframe tbody tr th {\n",
              "        vertical-align: top;\n",
              "    }\n",
              "\n",
              "    .dataframe thead th {\n",
              "        text-align: right;\n",
              "    }\n",
              "</style>\n",
              "<table border=\"1\" class=\"dataframe\">\n",
              "  <thead>\n",
              "    <tr style=\"text-align: right;\">\n",
              "      <th></th>\n",
              "      <th>Unnamed: 0</th>\n",
              "      <th>title</th>\n",
              "      <th>url</th>\n",
              "      <th>post</th>\n",
              "    </tr>\n",
              "  </thead>\n",
              "  <tbody>\n",
              "    <tr>\n",
              "      <th>0</th>\n",
              "      <td>0</td>\n",
              "      <td>Austin, TX 78735</td>\n",
              "      <td>https://www.indeed.com/pagead/clk?mo=r&amp;ad=-6NY...</td>\n",
              "      <td>The Lee Tilford Agency is looking to bring an ...</td>\n",
              "    </tr>\n",
              "    <tr>\n",
              "      <th>1</th>\n",
              "      <td>1</td>\n",
              "      <td>Web Development Project Manager</td>\n",
              "      <td>https://www.indeed.com/pagead/clk?mo=r&amp;ad=-6NY...</td>\n",
              "      <td>American Cruise Lines is the leading small shi...</td>\n",
              "    </tr>\n",
              "    <tr>\n",
              "      <th>2</th>\n",
              "      <td>2</td>\n",
              "      <td>Baltimore, MD 21218</td>\n",
              "      <td>https://www.indeed.com/pagead/clk?mo=r&amp;ad=-6NY...</td>\n",
              "      <td>The Space Telescope Science Institute is the s...</td>\n",
              "    </tr>\n",
              "    <tr>\n",
              "      <th>3</th>\n",
              "      <td>3</td>\n",
              "      <td>Web Production Specialist</td>\n",
              "      <td>https://www.indeed.com/rc/clk?jk=4286ca624ba7b...</td>\n",
              "      <td>Follow Get job updates from Billabong Group\\n\\...</td>\n",
              "    </tr>\n",
              "    <tr>\n",
              "      <th>4</th>\n",
              "      <td>4</td>\n",
              "      <td>Web Developer</td>\n",
              "      <td>https://www.indeed.com/rc/clk?jk=53a0854a1de59...</td>\n",
              "      <td>RSA, a Dell Technologies business, helps more ...</td>\n",
              "    </tr>\n",
              "  </tbody>\n",
              "</table>\n",
              "</div>"
            ],
            "text/plain": [
              "   Unnamed: 0  ...                                               post\n",
              "0           0  ...  The Lee Tilford Agency is looking to bring an ...\n",
              "1           1  ...  American Cruise Lines is the leading small shi...\n",
              "2           2  ...  The Space Telescope Science Institute is the s...\n",
              "3           3  ...  Follow Get job updates from Billabong Group\\n\\...\n",
              "4           4  ...  RSA, a Dell Technologies business, helps more ...\n",
              "\n",
              "[5 rows x 4 columns]"
            ]
          },
          "metadata": {
            "tags": []
          },
          "execution_count": 29
        }
      ]
    },
    {
      "cell_type": "markdown",
      "metadata": {
        "id": "IxETWBrgIzfW",
        "colab_type": "text"
      },
      "source": [
        "#Preliminary text exploration\n",
        "Before we proceed with any text pre-processing, it is advisable to quickly explore the dataset in terms of word counts, most common and most uncommon words.\n",
        "##Fetch word count for each abstract"
      ]
    },
    {
      "cell_type": "code",
      "metadata": {
        "id": "MM17IHJNIzNm",
        "colab_type": "code",
        "outputId": "0c647f89-bb0f-4c0e-a24b-05f21fc8832f",
        "colab": {
          "base_uri": "https://localhost:8080/",
          "height": 204
        }
      },
      "source": [
        "#Fetch wordcount for each abstract\n",
        "dataset['word_count'] = dataset['post'].apply(lambda x: len(str(x).split(\" \")))\n",
        "dataset[['post','word_count']].head()"
      ],
      "execution_count": 0,
      "outputs": [
        {
          "output_type": "execute_result",
          "data": {
            "text/html": [
              "<div>\n",
              "<style scoped>\n",
              "    .dataframe tbody tr th:only-of-type {\n",
              "        vertical-align: middle;\n",
              "    }\n",
              "\n",
              "    .dataframe tbody tr th {\n",
              "        vertical-align: top;\n",
              "    }\n",
              "\n",
              "    .dataframe thead th {\n",
              "        text-align: right;\n",
              "    }\n",
              "</style>\n",
              "<table border=\"1\" class=\"dataframe\">\n",
              "  <thead>\n",
              "    <tr style=\"text-align: right;\">\n",
              "      <th></th>\n",
              "      <th>post</th>\n",
              "      <th>word_count</th>\n",
              "    </tr>\n",
              "  </thead>\n",
              "  <tbody>\n",
              "    <tr>\n",
              "      <th>0</th>\n",
              "      <td>The Lee Tilford Agency is looking to bring an ...</td>\n",
              "      <td>304</td>\n",
              "    </tr>\n",
              "    <tr>\n",
              "      <th>1</th>\n",
              "      <td>American Cruise Lines is the leading small shi...</td>\n",
              "      <td>101</td>\n",
              "    </tr>\n",
              "    <tr>\n",
              "      <th>2</th>\n",
              "      <td>The Space Telescope Science Institute is the s...</td>\n",
              "      <td>910</td>\n",
              "    </tr>\n",
              "    <tr>\n",
              "      <th>3</th>\n",
              "      <td>Follow Get job updates from Billabong Group\\n\\...</td>\n",
              "      <td>29</td>\n",
              "    </tr>\n",
              "    <tr>\n",
              "      <th>4</th>\n",
              "      <td>RSA, a Dell Technologies business, helps more ...</td>\n",
              "      <td>499</td>\n",
              "    </tr>\n",
              "  </tbody>\n",
              "</table>\n",
              "</div>"
            ],
            "text/plain": [
              "                                                post  word_count\n",
              "0  The Lee Tilford Agency is looking to bring an ...         304\n",
              "1  American Cruise Lines is the leading small shi...         101\n",
              "2  The Space Telescope Science Institute is the s...         910\n",
              "3  Follow Get job updates from Billabong Group\\n\\...          29\n",
              "4  RSA, a Dell Technologies business, helps more ...         499"
            ]
          },
          "metadata": {
            "tags": []
          },
          "execution_count": 30
        }
      ]
    },
    {
      "cell_type": "code",
      "metadata": {
        "id": "Ig-qUDIeJCY6",
        "colab_type": "code",
        "outputId": "945de549-2fc6-4747-de01-4c308a8828d8",
        "colab": {
          "base_uri": "https://localhost:8080/",
          "height": 170
        }
      },
      "source": [
        "##Descriptive statistics of word counts\n",
        "dataset.word_count.describe()"
      ],
      "execution_count": 0,
      "outputs": [
        {
          "output_type": "execute_result",
          "data": {
            "text/plain": [
              "count     246.000000\n",
              "mean      395.609756\n",
              "std       248.800670\n",
              "min         9.000000\n",
              "25%       223.000000\n",
              "50%       386.000000\n",
              "75%       563.500000\n",
              "max      1946.000000\n",
              "Name: word_count, dtype: float64"
            ]
          },
          "metadata": {
            "tags": []
          },
          "execution_count": 31
        }
      ]
    },
    {
      "cell_type": "markdown",
      "metadata": {
        "id": "TSDRVGJLJCOK",
        "colab_type": "text"
      },
      "source": [
        "##Most common and uncommon words\n",
        "A peek into the most common words gives insights not only on the frequently used words but also words that could also be potential data specific stop words. A comparison of the most common words and the default English stop words will give us a list of words that need to be added to a custom stop word list."
      ]
    },
    {
      "cell_type": "code",
      "metadata": {
        "id": "uTIC0-xeJCDT",
        "colab_type": "code",
        "outputId": "e7576fa0-0103-441e-a5bd-f604cc379658",
        "colab": {
          "base_uri": "https://localhost:8080/",
          "height": 374
        }
      },
      "source": [
        "#Identify common words\n",
        "freq = pandas.Series(' '.join(dataset['post']).split()).value_counts()[:20]\n",
        "freq"
      ],
      "execution_count": 0,
      "outputs": [
        {
          "output_type": "execute_result",
          "data": {
            "text/plain": [
              "and           5656\n",
              "to            2896\n",
              "the           2312\n",
              "a             1996\n",
              "of            1992\n",
              "in            1594\n",
              "with          1569\n",
              "for           1258\n",
              "is             832\n",
              "our            735\n",
              "or             607\n",
              "on             587\n",
              "as             583\n",
              "be             575\n",
              "are            562\n",
              "experience     534\n",
              "will           494\n",
              "web            484\n",
              "work           478\n",
              "that           469\n",
              "dtype: int64"
            ]
          },
          "metadata": {
            "tags": []
          },
          "execution_count": 32
        }
      ]
    },
    {
      "cell_type": "code",
      "metadata": {
        "id": "S2d5gwEvJYu2",
        "colab_type": "code",
        "outputId": "3df7b78b-054b-4629-a3ad-79a744fc0c53",
        "colab": {
          "base_uri": "https://localhost:8080/",
          "height": 374
        }
      },
      "source": [
        "#Identify uncommon words\n",
        "freq1 =  pandas.Series(' '.join(dataset \n",
        "         ['post']).split()).value_counts()[-20:]\n",
        "freq1"
      ],
      "execution_count": 0,
      "outputs": [
        {
          "output_type": "execute_result",
          "data": {
            "text/plain": [
              "timely.          1\n",
              "ML/CV/NLP        1\n",
              "games            1\n",
              "freeform         1\n",
              "Morgan           1\n",
              "streams,         1\n",
              "smoothly.        1\n",
              "(queuing,        1\n",
              "Deploy           1\n",
              "reassignment)    1\n",
              "(c)              1\n",
              "welcomes         1\n",
              "contractors      1\n",
              "rockstars,       1\n",
              "Granted,         1\n",
              "Configuring      1\n",
              "Linux.           1\n",
              "Patterns:        1\n",
              "ENSA             1\n",
              "trained          1\n",
              "dtype: int64"
            ]
          },
          "metadata": {
            "tags": []
          },
          "execution_count": 33
        }
      ]
    },
    {
      "cell_type": "markdown",
      "metadata": {
        "id": "s1oBNV1jJekl",
        "colab_type": "text"
      },
      "source": [
        "Text Pre-processing\n",
        "![alt text](https://miro.medium.com/max/700/1*yOna3oFFjHmCRti1qusMAA.png)\n",
        "###Sparsity:\n",
        "*In text mining, huge matrices are created based on word frequencies with many cells having zero values. This problem is called sparsity and is minimized using various techniques.*\n",
        "\n",
        "\n",
        "Text pre-processing can be divided into two broad categories — noise removal & normalization. Data components that are redundant to the core text analytics can be considered as noise.\n",
        "![alt text](https://miro.medium.com/max/700/1*vwT-_4Eo5vcNrQ9JNl1gYg.png)\n",
        "Handling multiple occurrences / representations of the same word is called normalization. There are two types of normalization — stemming and lemmatization. Let us consider an example of various versions of the word learn — learn, learned, learning, learner. Normalisation will convert all these words to a single normalised version — “learn”.\n",
        "\n",
        "*Stemming normalizes text by removing suffixes.\n",
        "Lemmatisation is a more advanced technique which works based on the root of the word. *\n",
        "\n",
        "The following example illustrates the way stemming and lemmatisation work:"
      ]
    },
    {
      "cell_type": "code",
      "metadata": {
        "id": "wTmSTN5RKlX4",
        "colab_type": "code",
        "outputId": "ada52721-7748-4520-ea20-3a5bbd7406de",
        "colab": {
          "base_uri": "https://localhost:8080/",
          "height": 68
        }
      },
      "source": [
        ""
      ],
      "execution_count": 0,
      "outputs": [
        {
          "output_type": "stream",
          "text": [
            "[nltk_data] Downloading package wordnet to /root/nltk_data...\n",
            "[nltk_data]   Unzipping corpora/wordnet.zip.\n"
          ],
          "name": "stdout"
        },
        {
          "output_type": "execute_result",
          "data": {
            "text/plain": [
              "True"
            ]
          },
          "metadata": {
            "tags": []
          },
          "execution_count": 7
        }
      ]
    },
    {
      "cell_type": "code",
      "metadata": {
        "id": "Kiu6RNOLoBJ5",
        "colab_type": "code",
        "outputId": "7f24e174-ef1e-4aca-cea2-a43ecfe92bb1",
        "colab": {
          "base_uri": "https://localhost:8080/",
          "height": 68
        }
      },
      "source": [
        "import nltk\n",
        "nltk.download('wordnet')"
      ],
      "execution_count": 0,
      "outputs": [
        {
          "output_type": "stream",
          "text": [
            "[nltk_data] Downloading package wordnet to /root/nltk_data...\n",
            "[nltk_data]   Unzipping corpora/wordnet.zip.\n"
          ],
          "name": "stdout"
        },
        {
          "output_type": "execute_result",
          "data": {
            "text/plain": [
              "True"
            ]
          },
          "metadata": {
            "tags": []
          },
          "execution_count": 7
        }
      ]
    },
    {
      "cell_type": "code",
      "metadata": {
        "id": "bt6jbS4vJebG",
        "colab_type": "code",
        "outputId": "6fd19996-13f3-4618-ee74-c5b91df545b0",
        "colab": {
          "base_uri": "https://localhost:8080/",
          "height": 51
        }
      },
      "source": [
        "from nltk.stem.porter import PorterStemmer\n",
        "from nltk.stem.wordnet import WordNetLemmatizer\n",
        "\n",
        "lem = WordNetLemmatizer()\n",
        "stem = PorterStemmer()\n",
        "word = \"inversely\"\n",
        "print(\"stemming:\",stem.stem(word))\n",
        "print(\"lemmatization:\", lem.lemmatize(word, \"v\"))"
      ],
      "execution_count": 0,
      "outputs": [
        {
          "output_type": "stream",
          "text": [
            "stemming: invers\n",
            "lemmatization: inversely\n"
          ],
          "name": "stdout"
        }
      ]
    },
    {
      "cell_type": "markdown",
      "metadata": {
        "id": "b4274lNqKohg",
        "colab_type": "text"
      },
      "source": [
        "To carry out text pre-processing on our dataset, we will first import the required libraries."
      ]
    },
    {
      "cell_type": "code",
      "metadata": {
        "id": "W6m9kftrKpZD",
        "colab_type": "code",
        "outputId": "8e6bb5e1-f480-4e21-9a83-60a1972be825",
        "colab": {
          "base_uri": "https://localhost:8080/",
          "height": 85
        }
      },
      "source": [
        "# Libraries for text preprocessing\n",
        "import re\n",
        "import nltk\n",
        "nltk.download('stopwords')\n",
        "from nltk.corpus import stopwords\n",
        "from nltk.stem.porter import PorterStemmer\n",
        "from nltk.tokenize import RegexpTokenizer\n",
        "nltk.download('wordnet') \n",
        "from nltk.stem.wordnet import WordNetLemmatizer"
      ],
      "execution_count": 0,
      "outputs": [
        {
          "output_type": "stream",
          "text": [
            "[nltk_data] Downloading package stopwords to /root/nltk_data...\n",
            "[nltk_data]   Package stopwords is already up-to-date!\n",
            "[nltk_data] Downloading package wordnet to /root/nltk_data...\n",
            "[nltk_data]   Package wordnet is already up-to-date!\n"
          ],
          "name": "stdout"
        }
      ]
    },
    {
      "cell_type": "markdown",
      "metadata": {
        "id": "lxuSjIQSKzHR",
        "colab_type": "text"
      },
      "source": [
        "**Removing stopwords: **Stop words include the large number of prepositions, pronouns, conjunctions etc in sentences. These words need to be removed before we analyse the text, so that the frequently used words are mainly the words relevant to the context and not common words used in the text.\n",
        "\n",
        "There is a default list of stopwords in python nltk library. In addition, we might want to add context specific stopwords for which the “most common words” that we listed in the beginning will be helpful. We will now see how to create a list of stopwords and how to add custom stopwords:"
      ]
    },
    {
      "cell_type": "code",
      "metadata": {
        "id": "vRGjKPIRK5Ed",
        "colab_type": "code",
        "colab": {}
      },
      "source": [
        "##Creating a list of stop words and adding custom stopwords\n",
        "stop_words = set(stopwords.words(\"english\"))\n",
        "##Creating a list of custom stopwords\n",
        "new_words = [\"using\",\"position\",\"knowledge\",\"service\",\"time\" ,\"company\",\"job\",\"developer\",\"project\",\"required\",\"skill\",\"year\",\"development\",\"experience\", \"web\",\"team\", \"work\", \"show\", \"result\", \"large\", \"also\", \"iv\", \"one\", \"two\", \"new\", \"previously\", \"shown\"]\n",
        "stop_words = stop_words.union(new_words)"
      ],
      "execution_count": 0,
      "outputs": []
    },
    {
      "cell_type": "markdown",
      "metadata": {
        "id": "dwy9cld9LCsl",
        "colab_type": "text"
      },
      "source": [
        "We will now carry out the pre-processing tasks step-by-step to get a cleaned and normalised text corpus:"
      ]
    },
    {
      "cell_type": "code",
      "metadata": {
        "id": "9Al5DJJrLCfP",
        "colab_type": "code",
        "colab": {}
      },
      "source": [
        "corpus = []\n",
        "for post in dataset['post']:\n",
        "    #Remove punctuations\n",
        "    text = re.sub('[^a-zA-Z]', ' ', post)\n",
        "    \n",
        "    #Convert to lowercase\n",
        "    text = text.lower()\n",
        "    \n",
        "    #remove tags\n",
        "    text=re.sub(\"&lt;/?.*?&gt;\",\" &lt;&gt; \",text)\n",
        "    \n",
        "    # remove special characters and digits\n",
        "    text=re.sub(\"(\\\\d|\\\\W)+\",\" \",text)\n",
        "    \n",
        "    ##Convert to list from string\n",
        "    text = text.split()\n",
        "    \n",
        "    ##Stemming\n",
        "    ps=PorterStemmer()\n",
        "    #Lemmatisation\n",
        "    lem = WordNetLemmatizer()\n",
        "    text = [lem.lemmatize(word) for word in text if not word in  \n",
        "            stop_words] \n",
        "    text = \" \".join(text)\n",
        "    corpus.append(text)"
      ],
      "execution_count": 0,
      "outputs": []
    },
    {
      "cell_type": "code",
      "metadata": {
        "id": "DObOShC4LkAy",
        "colab_type": "code",
        "outputId": "2695d824-0cff-4bc4-b839-ddd3ac35f232",
        "colab": {
          "base_uri": "https://localhost:8080/",
          "height": 54
        }
      },
      "source": [
        "#View corpus item\n",
        "corpus[50]"
      ],
      "execution_count": 0,
      "outputs": [
        {
          "output_type": "execute_result",
          "data": {
            "text/plain": [
              "'description business network bn leading cloud erp small mid sized company small entrepreneurial dynamic innovative approach assisting customer nationwide internationally technical wizard looking exciting fast paced environment plenty opportunity growth could packaging leading technology sap suse vmware microsoft bn developed premier multi tenant cloud offering based upon hana memory computing platform bn opening sap business hana cloud dev ops administrator closely cto implementation staff manage enhance sap hana cloud technology taking market opportunity join ride responsibility develop maintain bn hana public cloud private cloud standard input approval cto relevant staff provision maintain sap hana environment cloud private install configure virtualized suse linux hana db sap b component b monitor system performance perfrom corrective action necessary c migrate cutomers unit decommissold environment document maintain process successful hana deployment cross train support staff relevant process assist support maintenance hana maintain develop hana extreme apps enhancement reliable performance sap business powered hana maintain develop integration premise cloud application install configure troubleshoot third party apllications sap b cloud provide escalation service support technician customer participate cloud enhancement project qualification educational requirement year linux prefereably suse window operating system including installation storage partitioning business management software preferably sap business sap hana m sql server query performance tuning basic scripting preferably vb java python remote access technology virtualization storage infrastructure understanding memory computing principle multi dimensional file structure ability flexible schedule including weekend order minimize impact client operation working maintaining compliance level agreement itil quality assurance framework excellent communication skill written verbal compensation bn offer competitive compensation package including competitive salary performance based bonus plan medical dental life insurance k match paid vacation holiday type full salary devops location marietta ga authorization united state additional compensation bonus location location describes culture'"
            ]
          },
          "metadata": {
            "tags": []
          },
          "execution_count": 38
        }
      ]
    },
    {
      "cell_type": "markdown",
      "metadata": {
        "id": "B1y30YY3Lpml",
        "colab_type": "text"
      },
      "source": [
        "#Data Exploration\n",
        "We will now visualize the text corpus that we created after pre-processing to get insights on the most frequently used words."
      ]
    },
    {
      "cell_type": "code",
      "metadata": {
        "id": "K8IBFefqLpQM",
        "colab_type": "code",
        "outputId": "fea65949-dc1e-40c7-e10c-72f4b6f8ca21",
        "colab": {
          "base_uri": "https://localhost:8080/",
          "height": 236
        }
      },
      "source": [
        "#Word cloud\n",
        "from os import path\n",
        "from PIL import Image\n",
        "from wordcloud import WordCloud, STOPWORDS, ImageColorGenerator\n",
        "import matplotlib.pyplot as plt\n",
        "% matplotlib inline\n",
        "wordcloud = WordCloud(\n",
        "                          background_color='black',\n",
        "                          stopwords=stop_words,\n",
        "                          max_words=100,\n",
        "                          max_font_size=50, \n",
        "                          random_state=42\n",
        "                         ).generate(str(corpus))\n",
        "print(wordcloud)\n",
        "fig = plt.figure(1)\n",
        "plt.imshow(wordcloud)\n",
        "plt.axis('off')\n",
        "plt.show()\n",
        "fig.savefig(\"word1.png\", dpi=900)"
      ],
      "execution_count": 0,
      "outputs": [
        {
          "output_type": "stream",
          "text": [
            "<wordcloud.wordcloud.WordCloud object at 0x7f2bb52e6978>\n"
          ],
          "name": "stdout"
        },
        {
          "output_type": "display_data",
          "data": {
            "image/png": "[encoded data removed]",
            "text/plain": [
              "<Figure size 432x288 with 1 Axes>"
            ]
          },
          "metadata": {
            "tags": []
          }
        }
      ]
    },
    {
      "cell_type": "markdown",
      "metadata": {
        "id": "tD06zjxsLpHI",
        "colab_type": "text"
      },
      "source": [
        "#Text preparation\n",
        "Text in the corpus needs to be converted to a format that can be interpreted by the machine learning algorithms. There are 2 parts of this conversion — Tokenisation and Vectorisation.\n",
        "\n",
        "*Tokenisation is the process of converting the continuous text into a list of words. The list of words is then converted to a matrix of integers by the process of vectorisation. Vectorisation is also called feature extraction.*\n",
        "\n",
        "For text preparation we use the bag of words model which ignores the sequence of the words and only considers word frequencies."
      ]
    },
    {
      "cell_type": "markdown",
      "metadata": {
        "id": "PZ10W1pcLCOs",
        "colab_type": "text"
      },
      "source": [
        "#Creating a vector of word counts\n",
        "As the first step of conversion, we will use the CountVectoriser to tokenise the text and build a vocabulary of known words. We first create a variable “cv” of the CountVectoriser class, and then evoke the fit_transform function to learn and build the vocabulary."
      ]
    },
    {
      "cell_type": "code",
      "metadata": {
        "id": "jaawmGHNMHKq",
        "colab_type": "code",
        "colab": {}
      },
      "source": [
        "from sklearn.feature_extraction.text import CountVectorizer\n",
        "import re\n",
        "cv=CountVectorizer(max_df=0.8,stop_words=stop_words, max_features=10000, ngram_range=(1,3))\n",
        "X=cv.fit_transform(corpus)"
      ],
      "execution_count": 0,
      "outputs": []
    },
    {
      "cell_type": "markdown",
      "metadata": {
        "id": "LGx8dzZ0MKKx",
        "colab_type": "text"
      },
      "source": [
        "Let us now understand the parameters passed into the function:\n",
        "cv=CountVectorizer(max_df=0.8,stop_words=stop_words, max_features=10000, ngram_range=(1,3))\n",
        "max_df — When building the vocabulary ignore terms that have a document frequency strictly higher than the given threshold (corpus-specific stop words). This is to ensure that we only have words relevant to the context and not commonly used words.\n",
        "max_features — determines the number of columns in the matrix.\n",
        "n-gram range — we would want to look at a list of single words, two words (bi-grams) and three words (tri-gram) combinations.\n",
        "An encoded vector is returned with a length of the entire vocabulary.\n"
      ]
    },
    {
      "cell_type": "code",
      "metadata": {
        "id": "pXDCM5oNMQzX",
        "colab_type": "code",
        "outputId": "6d411752-1b0b-4afe-d152-bdafb653cfa1",
        "colab": {
          "base_uri": "https://localhost:8080/",
          "height": 1000
        }
      },
      "source": [
        "list(cv.vocabulary_.keys())"
      ],
      "execution_count": 0,
      "outputs": [
        {
          "output_type": "execute_result",
          "data": {
            "text/plain": [
              "['lee',\n",
              " 'tilford',\n",
              " 'agency',\n",
              " 'looking',\n",
              " 'bring',\n",
              " 'additional',\n",
              " 'person',\n",
              " 'board',\n",
              " 'full',\n",
              " 'join',\n",
              " 'house',\n",
              " 'collaborate',\n",
              " 'internal',\n",
              " 'daily',\n",
              " 'basis',\n",
              " 'make',\n",
              " 'effective',\n",
              " 'therefore',\n",
              " 'please',\n",
              " 'understand',\n",
              " 'remote',\n",
              " 'freelance',\n",
              " 'contract',\n",
              " 'primarily',\n",
              " 'working',\n",
              " 'landing',\n",
              " 'page',\n",
              " 'platform',\n",
              " 'integration',\n",
              " 'data',\n",
              " 'set',\n",
              " 'wordpress',\n",
              " 'need',\n",
              " 'know',\n",
              " 'troubleshoot',\n",
              " 'customize',\n",
              " 'theme',\n",
              " 'plugins',\n",
              " 'posse',\n",
              " 'ability',\n",
              " 'quote',\n",
              " 'dev',\n",
              " 'accurately',\n",
              " 'meet',\n",
              " 'deadline',\n",
              " 'well',\n",
              " 'interact',\n",
              " 'client',\n",
              " 'occasion',\n",
              " 'mid',\n",
              " 'senior',\n",
              " 'level',\n",
              " 'prior',\n",
              " 'depth',\n",
              " 'core',\n",
              " 'woo',\n",
              " 'commerce',\n",
              " 'customization',\n",
              " 'maintenance',\n",
              " 'related',\n",
              " 'php',\n",
              " 'custom',\n",
              " 'hook',\n",
              " 'action',\n",
              " 'filter',\n",
              " 'creation',\n",
              " 'html',\n",
              " 'cs',\n",
              " 'javascript',\n",
              " 'jquery',\n",
              " 'library',\n",
              " 'mysql',\n",
              " 'ajax',\n",
              " 'stream',\n",
              " 'tool',\n",
              " 'browser',\n",
              " 'compatibility',\n",
              " 'capability',\n",
              " 'proficiency',\n",
              " 'adobe',\n",
              " 'creative',\n",
              " 'suite',\n",
              " 'specifically',\n",
              " 'photoshop',\n",
              " 'ideally',\n",
              " 'illustrator',\n",
              " 'highly',\n",
              " 'considered',\n",
              " 'include',\n",
              " 'use',\n",
              " 'side',\n",
              " 'server',\n",
              " 'technique',\n",
              " 'administration',\n",
              " 'including',\n",
              " 'linux',\n",
              " 'technical',\n",
              " 'mumbo',\n",
              " 'jumbo',\n",
              " 'come',\n",
              " 'business',\n",
              " 'thanks',\n",
              " 'part',\n",
              " 'experienced',\n",
              " 'smart',\n",
              " 'passionate',\n",
              " 'people',\n",
              " 'value',\n",
              " 'family',\n",
              " 'quality',\n",
              " 'life',\n",
              " 'sure',\n",
              " 'balance',\n",
              " 'located',\n",
              " 'south',\n",
              " 'austin',\n",
              " 'easy',\n",
              " 'access',\n",
              " 'major',\n",
              " 'roadway',\n",
              " 'benefit',\n",
              " 'enrollment',\n",
              " 'group',\n",
              " 'medical',\n",
              " 'dental',\n",
              " 'vision',\n",
              " 'plan',\n",
              " 'paid',\n",
              " 'vacation',\n",
              " 'starting',\n",
              " 'week',\n",
              " 'sick',\n",
              " 'personal',\n",
              " 'leave',\n",
              " 'type',\n",
              " 'relevant',\n",
              " 'preferred',\n",
              " 'location',\n",
              " 'tx',\n",
              " 'lee tilford',\n",
              " 'tilford agency',\n",
              " 'agency looking',\n",
              " 'looking bring',\n",
              " 'bring additional',\n",
              " 'additional person',\n",
              " 'person board',\n",
              " 'board full',\n",
              " 'full join',\n",
              " 'join house',\n",
              " 'house collaborate',\n",
              " 'collaborate internal',\n",
              " 'internal daily',\n",
              " 'daily basis',\n",
              " 'basis make',\n",
              " 'make effective',\n",
              " 'effective therefore',\n",
              " 'therefore please',\n",
              " 'please understand',\n",
              " 'understand remote',\n",
              " 'remote freelance',\n",
              " 'freelance contract',\n",
              " 'contract primarily',\n",
              " 'primarily working',\n",
              " 'working landing',\n",
              " 'landing page',\n",
              " 'page platform',\n",
              " 'platform integration',\n",
              " 'integration data',\n",
              " 'data set',\n",
              " 'set wordpress',\n",
              " 'wordpress need',\n",
              " 'need know',\n",
              " 'know troubleshoot',\n",
              " 'troubleshoot customize',\n",
              " 'customize theme',\n",
              " 'theme plugins',\n",
              " 'plugins posse',\n",
              " 'posse ability',\n",
              " 'ability quote',\n",
              " 'quote dev',\n",
              " 'dev accurately',\n",
              " 'accurately meet',\n",
              " 'meet deadline',\n",
              " 'deadline well',\n",
              " 'well interact',\n",
              " 'interact client',\n",
              " 'client occasion',\n",
              " 'occasion mid',\n",
              " 'mid senior',\n",
              " 'senior level',\n",
              " 'level prior',\n",
              " 'prior agency',\n",
              " 'agency depth',\n",
              " 'depth wordpress',\n",
              " 'wordpress core',\n",
              " 'core theme',\n",
              " 'plugins depth',\n",
              " 'depth woo',\n",
              " 'woo commerce',\n",
              " 'commerce customization',\n",
              " 'customization maintenance',\n",
              " 'maintenance woo',\n",
              " 'commerce related',\n",
              " 'related plugins',\n",
              " 'plugins php',\n",
              " 'php wordpress',\n",
              " 'wordpress custom',\n",
              " 'custom php',\n",
              " 'php hook',\n",
              " 'hook action',\n",
              " 'action filter',\n",
              " 'filter page',\n",
              " 'page creation',\n",
              " 'creation data',\n",
              " 'set html',\n",
              " 'html cs',\n",
              " 'cs javascript',\n",
              " 'javascript jquery',\n",
              " 'jquery library',\n",
              " 'library mysql',\n",
              " 'mysql integration',\n",
              " 'integration ajax',\n",
              " 'ajax stream',\n",
              " 'stream tool',\n",
              " 'tool browser',\n",
              " 'browser compatibility',\n",
              " 'compatibility capability',\n",
              " 'capability proficiency',\n",
              " 'proficiency adobe',\n",
              " 'adobe creative',\n",
              " 'creative suite',\n",
              " 'suite specifically',\n",
              " 'specifically photoshop',\n",
              " 'photoshop ideally',\n",
              " 'ideally illustrator',\n",
              " 'illustrator additional',\n",
              " 'additional highly',\n",
              " 'highly considered',\n",
              " 'considered include',\n",
              " 'include use',\n",
              " 'use client',\n",
              " 'client side',\n",
              " 'side server',\n",
              " 'server side',\n",
              " 'side technique',\n",
              " 'technique server',\n",
              " 'server administration',\n",
              " 'administration including',\n",
              " 'including linux',\n",
              " 'linux technical',\n",
              " 'technical mumbo',\n",
              " 'mumbo jumbo',\n",
              " 'jumbo come',\n",
              " 'come lee',\n",
              " 'agency business',\n",
              " 'business thanks',\n",
              " 'thanks part',\n",
              " 'part experienced',\n",
              " 'experienced smart',\n",
              " 'smart passionate',\n",
              " 'passionate people',\n",
              " 'people value',\n",
              " 'value client',\n",
              " 'client people',\n",
              " 'people family',\n",
              " 'family quality',\n",
              " 'quality life',\n",
              " 'life make',\n",
              " 'make sure',\n",
              " 'sure balance',\n",
              " 'balance located',\n",
              " 'located south',\n",
              " 'south austin',\n",
              " 'austin easy',\n",
              " 'easy access',\n",
              " 'access major',\n",
              " 'major roadway',\n",
              " 'roadway benefit',\n",
              " 'benefit include',\n",
              " 'include enrollment',\n",
              " 'enrollment group',\n",
              " 'group medical',\n",
              " 'medical dental',\n",
              " 'dental vision',\n",
              " 'vision plan',\n",
              " 'plan paid',\n",
              " 'paid vacation',\n",
              " 'vacation starting',\n",
              " 'starting week',\n",
              " 'week paid',\n",
              " 'paid sick',\n",
              " 'sick personal',\n",
              " 'personal leave',\n",
              " 'leave type',\n",
              " 'type full',\n",
              " 'full relevant',\n",
              " 'relevant preferred',\n",
              " 'preferred location',\n",
              " 'location austin',\n",
              " 'austin tx',\n",
              " 'tx location',\n",
              " 'lee tilford agency',\n",
              " 'tilford agency looking',\n",
              " 'agency looking bring',\n",
              " 'looking bring additional',\n",
              " 'bring additional person',\n",
              " 'additional person board',\n",
              " 'person board full',\n",
              " 'board full join',\n",
              " 'full join house',\n",
              " 'join house collaborate',\n",
              " 'house collaborate internal',\n",
              " 'collaborate internal daily',\n",
              " 'internal daily basis',\n",
              " 'daily basis make',\n",
              " 'basis make effective',\n",
              " 'make effective therefore',\n",
              " 'effective therefore please',\n",
              " 'therefore please understand',\n",
              " 'please understand remote',\n",
              " 'understand remote freelance',\n",
              " 'remote freelance contract',\n",
              " 'freelance contract primarily',\n",
              " 'contract primarily working',\n",
              " 'primarily working landing',\n",
              " 'working landing page',\n",
              " 'landing page platform',\n",
              " 'page platform integration',\n",
              " 'platform integration data',\n",
              " 'integration data set',\n",
              " 'data set wordpress',\n",
              " 'set wordpress need',\n",
              " 'wordpress need know',\n",
              " 'need know troubleshoot',\n",
              " 'know troubleshoot customize',\n",
              " 'troubleshoot customize theme',\n",
              " 'customize theme plugins',\n",
              " 'theme plugins posse',\n",
              " 'plugins posse ability',\n",
              " 'posse ability quote',\n",
              " 'ability quote dev',\n",
              " 'quote dev accurately',\n",
              " 'dev accurately meet',\n",
              " 'accurately meet deadline',\n",
              " 'meet deadline well',\n",
              " 'deadline well interact',\n",
              " 'well interact client',\n",
              " 'interact client occasion',\n",
              " 'client occasion mid',\n",
              " 'occasion mid senior',\n",
              " 'mid senior level',\n",
              " 'senior level prior',\n",
              " 'level prior agency',\n",
              " 'prior agency depth',\n",
              " 'agency depth wordpress',\n",
              " 'depth wordpress core',\n",
              " 'wordpress core theme',\n",
              " 'core theme plugins',\n",
              " 'theme plugins depth',\n",
              " 'plugins depth woo',\n",
              " 'depth woo commerce',\n",
              " 'woo commerce customization',\n",
              " 'commerce customization maintenance',\n",
              " 'customization maintenance woo',\n",
              " 'maintenance woo commerce',\n",
              " 'woo commerce related',\n",
              " 'commerce related plugins',\n",
              " 'related plugins php',\n",
              " 'plugins php wordpress',\n",
              " 'php wordpress custom',\n",
              " 'wordpress custom php',\n",
              " 'custom php hook',\n",
              " 'php hook action',\n",
              " 'hook action filter',\n",
              " 'action filter page',\n",
              " 'filter page creation',\n",
              " 'page creation data',\n",
              " 'creation data set',\n",
              " 'data set html',\n",
              " 'set html cs',\n",
              " 'html cs javascript',\n",
              " 'cs javascript jquery',\n",
              " 'javascript jquery library',\n",
              " 'jquery library mysql',\n",
              " 'library mysql integration',\n",
              " 'mysql integration ajax',\n",
              " 'integration ajax stream',\n",
              " 'ajax stream tool',\n",
              " 'stream tool browser',\n",
              " 'tool browser compatibility',\n",
              " 'browser compatibility capability',\n",
              " 'compatibility capability proficiency',\n",
              " 'capability proficiency adobe',\n",
              " 'proficiency adobe creative',\n",
              " 'adobe creative suite',\n",
              " 'creative suite specifically',\n",
              " 'suite specifically photoshop',\n",
              " 'specifically photoshop ideally',\n",
              " 'photoshop ideally illustrator',\n",
              " 'ideally illustrator additional',\n",
              " 'illustrator additional highly',\n",
              " 'additional highly considered',\n",
              " 'highly considered include',\n",
              " 'considered include use',\n",
              " 'include use client',\n",
              " 'use client side',\n",
              " 'client side server',\n",
              " 'side server side',\n",
              " 'server side technique',\n",
              " 'side technique server',\n",
              " 'technique server administration',\n",
              " 'server administration including',\n",
              " 'administration including linux',\n",
              " 'including linux technical',\n",
              " 'linux technical mumbo',\n",
              " 'technical mumbo jumbo',\n",
              " 'mumbo jumbo come',\n",
              " 'jumbo come lee',\n",
              " 'come lee tilford',\n",
              " 'tilford agency business',\n",
              " 'agency business thanks',\n",
              " 'business thanks part',\n",
              " 'thanks part experienced',\n",
              " 'part experienced smart',\n",
              " 'experienced smart passionate',\n",
              " 'smart passionate people',\n",
              " 'passionate people value',\n",
              " 'people value client',\n",
              " 'value client people',\n",
              " 'client people family',\n",
              " 'people family quality',\n",
              " 'family quality life',\n",
              " 'quality life make',\n",
              " 'life make sure',\n",
              " 'make sure balance',\n",
              " 'sure balance located',\n",
              " 'balance located south',\n",
              " 'located south austin',\n",
              " 'south austin easy',\n",
              " 'austin easy access',\n",
              " 'easy access major',\n",
              " 'access major roadway',\n",
              " 'major roadway benefit',\n",
              " 'roadway benefit include',\n",
              " 'benefit include enrollment',\n",
              " 'include enrollment group',\n",
              " 'enrollment group medical',\n",
              " 'group medical dental',\n",
              " 'medical dental vision',\n",
              " 'dental vision plan',\n",
              " 'vision plan paid',\n",
              " 'plan paid vacation',\n",
              " 'paid vacation starting',\n",
              " 'vacation starting week',\n",
              " 'starting week paid',\n",
              " 'week paid sick',\n",
              " 'paid sick personal',\n",
              " 'sick personal leave',\n",
              " 'personal leave type',\n",
              " 'leave type full',\n",
              " 'type full relevant',\n",
              " 'full relevant preferred',\n",
              " 'relevant preferred location',\n",
              " 'preferred location austin',\n",
              " 'location austin tx',\n",
              " 'austin tx location',\n",
              " 'american',\n",
              " 'cruise',\n",
              " 'line',\n",
              " 'leading',\n",
              " 'small',\n",
              " 'ship',\n",
              " 'united',\n",
              " 'state',\n",
              " 'website',\n",
              " 'ecommerce',\n",
              " 'critical',\n",
              " 'success',\n",
              " 'growth',\n",
              " 'manager',\n",
              " 'responsible',\n",
              " 'day',\n",
              " 'management',\n",
              " 'role',\n",
              " 'research',\n",
              " 'initiate',\n",
              " 'ensure',\n",
              " 'timely',\n",
              " 'completion',\n",
              " 'designed',\n",
              " 'improve',\n",
              " 'usability',\n",
              " 'customer',\n",
              " 'satisfaction',\n",
              " 'marketing',\n",
              " 'able',\n",
              " 'professional',\n",
              " 'deliver',\n",
              " 'consistent',\n",
              " 'message',\n",
              " 'guest',\n",
              " 'american cruise',\n",
              " 'cruise line',\n",
              " 'line leading',\n",
              " 'leading small',\n",
              " 'small ship',\n",
              " 'ship cruise',\n",
              " 'line united',\n",
              " 'united state',\n",
              " 'state website',\n",
              " 'website ecommerce',\n",
              " 'ecommerce platform',\n",
              " 'platform critical',\n",
              " 'critical success',\n",
              " 'success growth',\n",
              " 'growth business',\n",
              " 'business manager',\n",
              " 'manager responsible',\n",
              " 'responsible day',\n",
              " 'day day',\n",
              " 'day management',\n",
              " 'management role',\n",
              " 'role research',\n",
              " 'research initiate',\n",
              " 'initiate ensure',\n",
              " 'ensure timely',\n",
              " 'timely completion',\n",
              " 'completion designed',\n",
              " 'designed improve',\n",
              " 'improve usability',\n",
              " 'usability customer',\n",
              " 'customer satisfaction',\n",
              " 'satisfaction role',\n",
              " 'role marketing',\n",
              " 'marketing able',\n",
              " 'able marketing',\n",
              " 'marketing professional',\n",
              " 'professional deliver',\n",
              " 'deliver consistent',\n",
              " 'consistent relevant',\n",
              " 'relevant message',\n",
              " 'message guest',\n",
              " 'american cruise line',\n",
              " 'cruise line leading',\n",
              " 'line leading small',\n",
              " 'leading small ship',\n",
              " 'small ship cruise',\n",
              " 'ship cruise line',\n",
              " 'cruise line united',\n",
              " 'line united state',\n",
              " 'united state website',\n",
              " 'state website ecommerce',\n",
              " 'website ecommerce platform',\n",
              " 'ecommerce platform critical',\n",
              " 'platform critical success',\n",
              " 'critical success growth',\n",
              " 'success growth business',\n",
              " 'growth business manager',\n",
              " 'business manager responsible',\n",
              " 'manager responsible day',\n",
              " 'responsible day day',\n",
              " 'day day management',\n",
              " 'day management role',\n",
              " 'management role research',\n",
              " 'role research initiate',\n",
              " 'research initiate ensure',\n",
              " 'initiate ensure timely',\n",
              " 'ensure timely completion',\n",
              " 'timely completion designed',\n",
              " 'completion designed improve',\n",
              " 'designed improve usability',\n",
              " 'improve usability customer',\n",
              " 'usability customer satisfaction',\n",
              " 'customer satisfaction role',\n",
              " 'satisfaction role marketing',\n",
              " 'role marketing able',\n",
              " 'marketing able marketing',\n",
              " 'able marketing professional',\n",
              " 'marketing professional deliver',\n",
              " 'professional deliver consistent',\n",
              " 'deliver consistent relevant',\n",
              " 'consistent relevant message',\n",
              " 'relevant message guest',\n",
              " 'space',\n",
              " 'telescope',\n",
              " 'science',\n",
              " 'institute',\n",
              " 'operation',\n",
              " 'center',\n",
              " 'hubble',\n",
              " 'mission',\n",
              " 'james',\n",
              " 'webb',\n",
              " 'office',\n",
              " 'public',\n",
              " 'outreach',\n",
              " 'creates',\n",
              " 'product',\n",
              " 'backbone',\n",
              " 'news',\n",
              " 'education',\n",
              " 'effort',\n",
              " 'achievement',\n",
              " 'helped',\n",
              " 'universally',\n",
              " 'recognized',\n",
              " 'scientific',\n",
              " 'endeavor',\n",
              " 'innovative',\n",
              " 'seeking',\n",
              " 'stack',\n",
              " 'expand',\n",
              " 'career',\n",
              " 'member',\n",
              " 'develops',\n",
              " 'stsci',\n",
              " 'organizational',\n",
              " 'individual',\n",
              " 'site',\n",
              " 'wide',\n",
              " 'range',\n",
              " 'based',\n",
              " 'involve',\n",
              " 'within',\n",
              " 'environment',\n",
              " 'coordinate',\n",
              " 'staff',\n",
              " 'external',\n",
              " 'vendor',\n",
              " 'main',\n",
              " 'responsibility',\n",
              " 'filling',\n",
              " 'build',\n",
              " 'functionality',\n",
              " 'front',\n",
              " 'back',\n",
              " 'end',\n",
              " 'code',\n",
              " 'design',\n",
              " 'document',\n",
              " 'system',\n",
              " 'requirement',\n",
              " 'happen',\n",
              " 'java',\n",
              " 'jahia',\n",
              " 'content',\n",
              " 'may',\n",
              " 'ruby',\n",
              " 'rail',\n",
              " 'react',\n",
              " 'variety',\n",
              " 'bachelor',\n",
              " 'degree',\n",
              " 'equivalent',\n",
              " 'computer',\n",
              " 'information',\n",
              " 'field',\n",
              " 'master',\n",
              " 'desirable',\n",
              " 'stickler',\n",
              " 'detail',\n",
              " 'effectively',\n",
              " 'multi',\n",
              " 'task',\n",
              " 'natural',\n",
              " 'desire',\n",
              " 'tackle',\n",
              " 'resolve',\n",
              " 'problem',\n",
              " 'demonstrate',\n",
              " 'high',\n",
              " 'reliability',\n",
              " 'focus',\n",
              " 'inherent',\n",
              " 'interest',\n",
              " 'programming',\n",
              " 'strong',\n",
              " 'multiple',\n",
              " 'budgeted',\n",
              " 'scheduled',\n",
              " 'frame',\n",
              " 'superb',\n",
              " 'communication',\n",
              " 'designer',\n",
              " 'writer',\n",
              " 'curator',\n",
              " 'talk',\n",
              " 'needed',\n",
              " 'least',\n",
              " 'continuous',\n",
              " 'industry',\n",
              " 'production',\n",
              " 'current',\n",
              " 'comparable',\n",
              " 'existing',\n",
              " 'standard',\n",
              " 'minimum',\n",
              " 'developing',\n",
              " 'sitecore',\n",
              " 'etc',\n",
              " 'addition',\n",
              " 'listed',\n",
              " 'remain',\n",
              " 'engaged',\n",
              " 'trend',\n",
              " 'self',\n",
              " 'managed',\n",
              " 'enjoy',\n",
              " 'collaborative',\n",
              " 'stimulating',\n",
              " 'think',\n",
              " 'process',\n",
              " 'method',\n",
              " 'provide',\n",
              " 'significant',\n",
              " 'functional',\n",
              " 'across',\n",
              " 'division',\n",
              " 'successfully',\n",
              " 'appearance',\n",
              " 'valid',\n",
              " 'template',\n",
              " 'display',\n",
              " 'feature',\n",
              " 'bug',\n",
              " 'fix',\n",
              " 'create',\n",
              " 'debug',\n",
              " 'follow',\n",
              " 'thorough',\n",
              " 'qa',\n",
              " 'ensures',\n",
              " 'logging',\n",
              " 'issue',\n",
              " 'jira',\n",
              " 'ticketing',\n",
              " 'stay',\n",
              " 'top',\n",
              " 'methodology',\n",
              " 'proven',\n",
              " 'background',\n",
              " 'cross',\n",
              " 'testing',\n",
              " 'writing',\n",
              " 'testable',\n",
              " 'efficient',\n",
              " 'maintainable',\n",
              " 'documented',\n",
              " 'familiarity',\n",
              " 'following',\n",
              " 'strongly',\n",
              " 'encouraged',\n",
              " 'jsp',\n",
              " 'groovy',\n",
              " 'spring',\n",
              " 'agile',\n",
              " 'pair',\n",
              " 'git',\n",
              " 'version',\n",
              " 'control',\n",
              " 'confluence',\n",
              " 'digital',\n",
              " 'cm',\n",
              " 'preprocessors',\n",
              " 'sas',\n",
              " 'le',\n",
              " 'gulp',\n",
              " 'webpack',\n",
              " 'grunt',\n",
              " 'write',\n",
              " 'debugging',\n",
              " 'like',\n",
              " 'chrome',\n",
              " 'search',\n",
              " 'engine',\n",
              " 'optimization',\n",
              " 'accessibility',\n",
              " 'concept',\n",
              " 'regulation',\n",
              " 'wcag',\n",
              " 'section',\n",
              " 'ada',\n",
              " 'compliance',\n",
              " 'mobile',\n",
              " 'responsive',\n",
              " 'architecture',\n",
              " 'view',\n",
              " 'announcement',\n",
              " 'visiting',\n",
              " 'www',\n",
              " 'edu',\n",
              " 'opportunity',\n",
              " 'click',\n",
              " 'green',\n",
              " 'apply',\n",
              " 'button',\n",
              " 'right',\n",
              " 'submit',\n",
              " 'application',\n",
              " 'material',\n",
              " 'received',\n",
              " 'july',\n",
              " 'receive',\n",
              " 'consideration',\n",
              " 'provides',\n",
              " 'comprehensive',\n",
              " 'generous',\n",
              " 'flexible',\n",
              " 'schedule',\n",
              " 'tuition',\n",
              " 'imbursement',\n",
              " 'amazing',\n",
              " 'retirement',\n",
              " 'impact',\n",
              " 'universe',\n",
              " 'direct',\n",
              " 'link',\n",
              " 'http',\n",
              " 'recruiting',\n",
              " 'ultipro',\n",
              " 'com',\n",
              " 'spa',\n",
              " 'aura',\n",
              " 'jobboard',\n",
              " 'ba',\n",
              " 'aa',\n",
              " 'opportunitydetail',\n",
              " 'opportunityid',\n",
              " 'fe',\n",
              " 'abd',\n",
              " 'leader',\n",
              " 'astronomical',\n",
              " 'community',\n",
              " 'committed',\n",
              " 'diversity',\n",
              " 'inclusion',\n",
              " 'support',\n",
              " 'program',\n",
              " 'advance',\n",
              " 'commitment',\n",
              " 'broaden',\n",
              " 'participation',\n",
              " 'advancement',\n",
              " 'throughout',\n",
              " 'workforce',\n",
              " 'learn',\n",
              " 'astronomy',\n",
              " 'org',\n",
              " 'asp',\n",
              " 'recipient',\n",
              " 'government',\n",
              " 'funding',\n",
              " 'contractor',\n",
              " 'subject',\n",
              " 'equal',\n",
              " 'employment',\n",
              " 'affirmative',\n",
              " 'employer',\n",
              " 'discriminate',\n",
              " 'race',\n",
              " 'sex',\n",
              " 'color',\n",
              " 'age',\n",
              " 'religion',\n",
              " 'national',\n",
              " 'origin',\n",
              " 'sexual',\n",
              " 'orientation',\n",
              " 'gender',\n",
              " 'identity',\n",
              " 'expression',\n",
              " 'lawful',\n",
              " 'political',\n",
              " 'affiliation',\n",
              " 'veteran',\n",
              " 'status',\n",
              " 'disability',\n",
              " 'legally',\n",
              " 'protected',\n",
              " 'applicable',\n",
              " 'federal',\n",
              " 'local',\n",
              " 'law',\n",
              " 'statement',\n",
              " 'request',\n",
              " 'identification',\n",
              " 'pursuant',\n",
              " 'encourage',\n",
              " 'meeting',\n",
              " 'reporting',\n",
              " 'included',\n",
              " 'protection',\n",
              " 'assist',\n",
              " 'record',\n",
              " 'keeping',\n",
              " 'response',\n",
              " 'kept',\n",
              " 'rigorously',\n",
              " 'confidential',\n",
              " 'see',\n",
              " 'strategic',\n",
              " 'priority',\n",
              " 'first',\n",
              " 'rate',\n",
              " 'reflect',\n",
              " 'deep',\n",
              " 'encouraging',\n",
              " 'woman',\n",
              " 'minority',\n",
              " 'disabled',\n",
              " 'wounded',\n",
              " 'warrior',\n",
              " 'needing',\n",
              " 'assistance',\n",
              " 'contact',\n",
              " 'eoe',\n",
              " 'voted',\n",
              " 'baltimore',\n",
              " 'magazine',\n",
              " 'hall',\n",
              " 'fame',\n",
              " 'place',\n",
              " 'space telescope',\n",
              " 'telescope science',\n",
              " 'science institute',\n",
              " 'institute science',\n",
              " 'science operation',\n",
              " 'operation center',\n",
              " 'center hubble',\n",
              " 'hubble space',\n",
              " 'science mission',\n",
              " 'mission operation',\n",
              " 'center james',\n",
              " 'james webb',\n",
              " 'webb space',\n",
              " 'telescope office',\n",
              " 'office public',\n",
              " 'public outreach',\n",
              " 'outreach creates',\n",
              " 'creates product',\n",
              " 'product backbone',\n",
              " 'backbone news',\n",
              " 'news education',\n",
              " 'education public',\n",
              " 'outreach effort',\n",
              " 'effort mission',\n",
              " 'mission achievement',\n",
              " 'achievement office',\n",
              " 'office helped',\n",
              " 'helped make',\n",
              " 'make hubble',\n",
              " 'telescope universally',\n",
              " 'universally recognized',\n",
              " 'recognized scientific',\n",
              " 'scientific endeavor',\n",
              " 'endeavor creative',\n",
              " 'creative innovative',\n",
              " 'innovative office',\n",
              " 'outreach seeking',\n",
              " 'seeking mid',\n",
              " 'mid level',\n",
              " 'level full',\n",
              " 'full stack',\n",
              " 'stack looking',\n",
              " 'looking expand',\n",
              " 'expand career',\n",
              " 'career member',\n",
              " 'member website',\n",
              " 'website develops',\n",
              " 'develops institute',\n",
              " 'institute website',\n",
              " 'website including',\n",
              " 'including stsci',\n",
              " 'stsci organizational',\n",
              " 'organizational website',\n",
              " 'website individual',\n",
              " 'individual mission',\n",
              " 'mission outreach',\n",
              " 'outreach site',\n",
              " 'site well',\n",
              " 'well wide',\n",
              " 'wide range',\n",
              " 'range based',\n",
              " 'based product',\n",
              " 'product involve',\n",
              " 'involve within',\n",
              " 'within environment',\n",
              " 'environment coordinate',\n",
              " 'coordinate outreach',\n",
              " 'outreach technical',\n",
              " 'technical staff',\n",
              " 'staff including',\n",
              " 'including external',\n",
              " 'external vendor',\n",
              " 'vendor main',\n",
              " 'main responsibility',\n",
              " 'responsibility person',\n",
              " 'person filling',\n",
              " 'filling build',\n",
              " 'build website',\n",
              " ...]"
            ]
          },
          "metadata": {
            "tags": []
          },
          "execution_count": 41
        }
      ]
    },
    {
      "cell_type": "markdown",
      "metadata": {
        "id": "ZZr6ucLBMPY3",
        "colab_type": "text"
      },
      "source": [
        "##Visualize top N uni-grams, bi-grams & tri-grams\n",
        "We can use the CountVectoriser to visualise the top 20 unigrams, bi-grams and tri-grams."
      ]
    },
    {
      "cell_type": "code",
      "metadata": {
        "id": "4pMkuAdRMQI3",
        "colab_type": "code",
        "outputId": "630aa5df-8f28-40c8-b930-1e00d74c1a88",
        "colab": {
          "base_uri": "https://localhost:8080/",
          "height": 884
        }
      },
      "source": [
        "#Most frequently occuring words\n",
        "def get_top_n_words(corpus, n=None):\n",
        "    vec = CountVectorizer().fit(corpus)\n",
        "    bag_of_words = vec.transform(corpus)\n",
        "    sum_words = bag_of_words.sum(axis=0) \n",
        "    words_freq = [(word, sum_words[0, idx]) for word, idx in      \n",
        "                   vec.vocabulary_.items()]\n",
        "    words_freq =sorted(words_freq, key = lambda x: x[1], \n",
        "                       reverse=True)\n",
        "    return words_freq[:n]\n",
        "#Convert most freq words to dataframe for plotting bar plot\n",
        "top_words = get_top_n_words(corpus, n=20)\n",
        "top_df = pandas.DataFrame(top_words)\n",
        "top_df.columns=[\"Word\", \"Freq\"]\n",
        "#Barplot of most freq words\n",
        "import seaborn as sns\n",
        "sns.set(rc={'figure.figsize':(13,8)})\n",
        "g = sns.barplot(x=\"Word\", y=\"Freq\", data=top_df)\n",
        "g.set_xticklabels(g.get_xticklabels(), rotation=30)"
      ],
      "execution_count": 0,
      "outputs": [
        {
          "output_type": "execute_result",
          "data": {
            "text/plain": [
              "[Text(0, 0, 'experience'),\n",
              " Text(0, 0, 'web'),\n",
              " Text(0, 0, 'team'),\n",
              " Text(0, 0, 'work'),\n",
              " Text(0, 0, 'development'),\n",
              " Text(0, 0, 'year'),\n",
              " Text(0, 0, 'design'),\n",
              " Text(0, 0, 'skill'),\n",
              " Text(0, 0, 'application'),\n",
              " Text(0, 0, 'required'),\n",
              " Text(0, 0, 'project'),\n",
              " Text(0, 0, 'developer'),\n",
              " Text(0, 0, 'job'),\n",
              " Text(0, 0, 'company'),\n",
              " Text(0, 0, 'time'),\n",
              " Text(0, 0, 'service'),\n",
              " Text(0, 0, 'system'),\n",
              " Text(0, 0, 'environment'),\n",
              " Text(0, 0, 'knowledge'),\n",
              " Text(0, 0, 'position')]"
            ]
          },
          "metadata": {
            "tags": []
          },
          "execution_count": 16
        },
        {
          "output_type": "display_data",
          "data": {
            "image/png": "[encoded data removed]",
            "text/plain": [
              "<Figure size 936x576 with 1 Axes>"
            ]
          },
          "metadata": {
            "tags": []
          }
        }
      ]
    },
    {
      "cell_type": "code",
      "metadata": {
        "id": "QSuPaLeSMPwV",
        "colab_type": "code",
        "outputId": "07a54ef7-803d-4c55-a051-9bb445ad9c80",
        "colab": {
          "base_uri": "https://localhost:8080/",
          "height": 1000
        }
      },
      "source": [
        "#Most frequently occuring Bi-grams\n",
        "def get_top_n2_words(corpus, n=None):\n",
        "    vec1 = CountVectorizer(ngram_range=(2,2),  \n",
        "            max_features=2000).fit(corpus)\n",
        "    bag_of_words = vec1.transform(corpus)\n",
        "    sum_words = bag_of_words.sum(axis=0) \n",
        "    words_freq = [(word, sum_words[0, idx]) for word, idx in     \n",
        "                  vec1.vocabulary_.items()]\n",
        "    words_freq =sorted(words_freq, key = lambda x: x[1], \n",
        "                reverse=True)\n",
        "    return words_freq[:n]\n",
        "top2_words = get_top_n2_words(corpus, n=20)\n",
        "top2_df = pandas.DataFrame(top2_words)\n",
        "top2_df.columns=[\"Bi-gram\", \"Freq\"]\n",
        "print(top2_df)\n",
        "#Barplot of most freq Bi-grams\n",
        "import seaborn as sns\n",
        "sns.set(rc={'figure.figsize':(13,8)})\n",
        "h=sns.barplot(x=\"Bi-gram\", y=\"Freq\", data=top2_df)\n",
        "h.set_xticklabels(h.get_xticklabels(), rotation=45)"
      ],
      "execution_count": 0,
      "outputs": [
        {
          "output_type": "stream",
          "text": [
            "                Bi-gram  Freq\n",
            "0               html cs   149\n",
            "1             front end   140\n",
            "2             full time   138\n",
            "3       year experience   133\n",
            "4         web developer   113\n",
            "5              job type   112\n",
            "6       web development   105\n",
            "7        year preferred    94\n",
            "8             type full    91\n",
            "9       web application    91\n",
            "10  communication skill    75\n",
            "11        cs javascript    73\n",
            "12      bachelor degree    71\n",
            "13      user experience    71\n",
            "14         work closely    69\n",
            "15         ability work    65\n",
            "16          herroom com    65\n",
            "17        work location    64\n",
            "18   experience working    64\n",
            "19           fast paced    62\n"
          ],
          "name": "stdout"
        },
        {
          "output_type": "execute_result",
          "data": {
            "text/plain": [
              "[Text(0, 0, 'html cs'),\n",
              " Text(0, 0, 'front end'),\n",
              " Text(0, 0, 'full time'),\n",
              " Text(0, 0, 'year experience'),\n",
              " Text(0, 0, 'web developer'),\n",
              " Text(0, 0, 'job type'),\n",
              " Text(0, 0, 'web development'),\n",
              " Text(0, 0, 'year preferred'),\n",
              " Text(0, 0, 'type full'),\n",
              " Text(0, 0, 'web application'),\n",
              " Text(0, 0, 'communication skill'),\n",
              " Text(0, 0, 'cs javascript'),\n",
              " Text(0, 0, 'bachelor degree'),\n",
              " Text(0, 0, 'user experience'),\n",
              " Text(0, 0, 'work closely'),\n",
              " Text(0, 0, 'ability work'),\n",
              " Text(0, 0, 'herroom com'),\n",
              " Text(0, 0, 'work location'),\n",
              " Text(0, 0, 'experience working'),\n",
              " Text(0, 0, 'fast paced')]"
            ]
          },
          "metadata": {
            "tags": []
          },
          "execution_count": 19
        },
        {
          "output_type": "display_data",
          "data": {
            "image/png": "[encoded data removed]",
            "text/plain": [
              "<Figure size 936x576 with 1 Axes>"
            ]
          },
          "metadata": {
            "tags": []
          }
        }
      ]
    },
    {
      "cell_type": "code",
      "metadata": {
        "id": "MsfgC6m-MwZQ",
        "colab_type": "code",
        "outputId": "9bc023f4-8c5c-4b40-e7c2-ebe4d50c2090",
        "colab": {
          "base_uri": "https://localhost:8080/",
          "height": 1000
        }
      },
      "source": [
        "#Most frequently occuring Tri-grams\n",
        "def get_top_n3_words(corpus, n=None):\n",
        "    vec1 = CountVectorizer(ngram_range=(3,3), \n",
        "           max_features=2000).fit(corpus)\n",
        "    bag_of_words = vec1.transform(corpus)\n",
        "    sum_words = bag_of_words.sum(axis=0) \n",
        "    words_freq = [(word, sum_words[0, idx]) for word, idx in     \n",
        "                  vec1.vocabulary_.items()]\n",
        "    words_freq =sorted(words_freq, key = lambda x: x[1], \n",
        "                reverse=True)\n",
        "    return words_freq[:n]\n",
        "top3_words = get_top_n3_words(corpus, n=20)\n",
        "top3_df = pandas.DataFrame(top3_words)\n",
        "top3_df.columns=[\"Tri-gram\", \"Freq\"]\n",
        "print(top3_df)\n",
        "#Barplot of most freq Tri-grams\n",
        "import seaborn as sns\n",
        "sns.set(rc={'figure.figsize':(13,8)})\n",
        "j=sns.barplot(x=\"Tri-gram\", y=\"Freq\", data=top3_df)\n",
        "j.set_xticklabels(j.get_xticklabels(), rotation=45)"
      ],
      "execution_count": 0,
      "outputs": [
        {
          "output_type": "stream",
          "text": [
            "                       Tri-gram  Freq\n",
            "0                type full time    91\n",
            "1                 job type full    90\n",
            "2            html cs javascript    68\n",
            "3              full time salary    41\n",
            "4              time salary year    41\n",
            "5       degree computer science    35\n",
            "6        work location location    35\n",
            "7        web developer position    34\n",
            "8        salary year experience    34\n",
            "9        fast paced environment    33\n",
            "10     experience relevant year    29\n",
            "11      relevant year preferred    29\n",
            "12    company describes culture    29\n",
            "13        front end development    29\n",
            "14         full time experience    28\n",
            "15  communication skill written    28\n",
            "16     across multiple platform    27\n",
            "17      year preferred location    26\n",
            "18        hana maintain develop    26\n",
            "19          email web developer    26\n"
          ],
          "name": "stdout"
        },
        {
          "output_type": "execute_result",
          "data": {
            "text/plain": [
              "[Text(0, 0, 'type full time'),\n",
              " Text(0, 0, 'job type full'),\n",
              " Text(0, 0, 'html cs javascript'),\n",
              " Text(0, 0, 'full time salary'),\n",
              " Text(0, 0, 'time salary year'),\n",
              " Text(0, 0, 'degree computer science'),\n",
              " Text(0, 0, 'work location location'),\n",
              " Text(0, 0, 'web developer position'),\n",
              " Text(0, 0, 'salary year experience'),\n",
              " Text(0, 0, 'fast paced environment'),\n",
              " Text(0, 0, 'experience relevant year'),\n",
              " Text(0, 0, 'relevant year preferred'),\n",
              " Text(0, 0, 'company describes culture'),\n",
              " Text(0, 0, 'front end development'),\n",
              " Text(0, 0, 'full time experience'),\n",
              " Text(0, 0, 'communication skill written'),\n",
              " Text(0, 0, 'across multiple platform'),\n",
              " Text(0, 0, 'year preferred location'),\n",
              " Text(0, 0, 'hana maintain develop'),\n",
              " Text(0, 0, 'email web developer')]"
            ]
          },
          "metadata": {
            "tags": []
          },
          "execution_count": 20
        },
        {
          "output_type": "display_data",
          "data": {
            "image/png": "[encoded data removed]",
            "text/plain": [
              "<Figure size 936x576 with 1 Axes>"
            ]
          },
          "metadata": {
            "tags": []
          }
        }
      ]
    },
    {
      "cell_type": "markdown",
      "metadata": {
        "id": "o7MQ-sTwMwER",
        "colab_type": "text"
      },
      "source": [
        "#Converting to a matrix of integers\n",
        "The next step of refining the word counts is using the TF-IDF vectoriser. The deficiency of a mere word count obtained from the countVectoriser is that, large counts of certain common words may dilute the impact of more context specific words in the corpus. This is overcome by the TF-IDF vectoriser which penalizes words that appear several times across the document. TF-IDF are word frequency scores that highlight words that are more important to the context rather than those that appear frequently across documents.\n",
        "\n",
        "TF-IDF consists of 2 components:\n",
        "\n",
        "TF — term frequency\n",
        "\n",
        "IDF — Inverse document frequency\n",
        "![alt text](https://miro.medium.com/max/700/1*H0aRm_BHC_3QZIopp1iMcQ.png)\n"
      ]
    },
    {
      "cell_type": "code",
      "metadata": {
        "id": "etBCGYYnMv1r",
        "colab_type": "code",
        "colab": {}
      },
      "source": [
        ""
      ],
      "execution_count": 0,
      "outputs": []
    },
    {
      "cell_type": "markdown",
      "metadata": {
        "id": "blXe3NV7NjZA",
        "colab_type": "text"
      },
      "source": [
        "Based on the TF-IDF scores, we can extract the words with the highest scores to get the keywords for a document."
      ]
    },
    {
      "cell_type": "code",
      "metadata": {
        "id": "6tFHs0f1NPya",
        "colab_type": "code",
        "outputId": "2fd21988-4c86-4e00-c7cc-97febbf20193",
        "colab": {
          "base_uri": "https://localhost:8080/",
          "height": 156
        }
      },
      "source": [
        " #Function for sorting tf_idf in descending order\n",
        "from scipy.sparse import coo_matrix\n",
        "def sort_coo(coo_matrix):\n",
        "    tuples = zip(coo_matrix.col, coo_matrix.data)\n",
        "    return sorted(tuples, key=lambda x: (x[1], x[0]), reverse=True)\n",
        "  \n",
        "def extract_topn_from_vector(feature_names, sorted_items, topn=10):\n",
        "    \"\"\"get the feature names and tf-idf score of top n items\"\"\"\n",
        "    \n",
        "    #use only topn items from vector\n",
        "    sorted_items = sorted_items[:topn]\n",
        "    score_vals = []\n",
        "    feature_vals = []\n",
        "    \n",
        "    # word index and corresponding tf-idf score\n",
        "    for idx, score in sorted_items:\n",
        "        \n",
        "        #keep track of feature name and its corresponding score\n",
        "        score_vals.append(round(score, 3))\n",
        "        feature_vals.append(feature_names[idx])\n",
        "    #create a tuples of feature,score\n",
        "    #results = zip(feature_vals,score_vals)\n",
        "    results= {}\n",
        "    for idx in range(len(feature_vals)):\n",
        "        results[feature_vals[idx]]=score_vals[idx]\n",
        "    \n",
        "    return results\n",
        "#sort the tf-idf vectors by descending order of scores\n",
        "sorted_items=sort_coo(tf_idf_vector.tocoo())\n",
        "#extract only the top n; n here is 10\n",
        "keywords=extract_topn_from_vector(feature_names,sorted_items,2)\n",
        "\n",
        "# now print the results\n",
        "print(\"\\npost:\")\n",
        "print(doc)\n",
        "print(\"\\nKeywords:\")\n",
        "for k in keywords:\n",
        "    print(k,keywords[k])"
      ],
      "execution_count": 0,
      "outputs": [
        {
          "output_type": "stream",
          "text": [
            "\n",
            "post:\n",
            "building building next generation entertainment application generation z tech stack reactjs react native django backend open nodejs ideal candidate awesome javascript coding react redux django node year implemented react front end least live production grade web application used real people real use case love code even nobody asking build thing fun stay aware happening tech preferred dev ops e know build configure scalable architecture django node j web socket apps digital ocean good eye design ability transform mockups zeplin figma sketch pixel perfect mobile responsive interactive web apps work day week interested start sending u web link built past github skill react react native nodejs node j redux flux django note apply without relevant work sample react django send link project github clearly work experience position turn full time based performance equity rsu option available ideal candidate additional description reactjs react native developer interested building mobile apps io android platform hand experience react native apis reactjs javascript ecmascript oojs jsx tsx firm grasp javascript typescript clojurescript language nuance including e syntax hand experience material design ui ux best skill handling fully dynamic ui dom manipulation designing stateless component react native state management redux mobx flux must work part team developing application service agile development method leverage native apis deep integration platform familiar concept bridging android io knowledge functional object oriented programming build pixel perfect buttery smooth uis across mobile platform familiarity native build tool like xcode gradle understanding rest apis document request model offline storage job type full time part time salary hour experience relevant year preferred additional compensation bonus work location\n",
            "\n",
            "Keywords:\n",
            "native 0.384\n",
            "react 0.304\n"
          ],
          "name": "stdout"
        }
      ]
    },
    {
      "cell_type": "code",
      "metadata": {
        "id": "MVvCOrnm7U8A",
        "colab_type": "code",
        "colab": {}
      },
      "source": [
        "keys = []\n",
        "for doc in corpus:\n",
        "  tf_idf_vector = tfidf_transformer.transform(cv.transform([doc]))\n",
        "  sorted_items = sort_coo(tf_idf_vector.tocoo())\n",
        "  keywords = extract_topn_from_vector(feature_names,sorted_items,10)\n",
        "  keys += keywords"
      ],
      "execution_count": 0,
      "outputs": []
    },
    {
      "cell_type": "code",
      "metadata": {
        "id": "ejY7wB4V9AnL",
        "colab_type": "code",
        "outputId": "fb592c61-7e6b-4bff-ed4c-6a466a63f7f0",
        "colab": {
          "base_uri": "https://localhost:8080/",
          "height": 34
        }
      },
      "source": [
        "len(keys)"
      ],
      "execution_count": 0,
      "outputs": [
        {
          "output_type": "execute_result",
          "data": {
            "text/plain": [
              "2446"
            ]
          },
          "metadata": {
            "tags": []
          },
          "execution_count": 24
        }
      ]
    },
    {
      "cell_type": "code",
      "metadata": {
        "id": "WpIAaNaE9i-w",
        "colab_type": "code",
        "outputId": "c51c846e-bbcc-4506-8a5e-a0ebf37d359e",
        "colab": {
          "base_uri": "https://localhost:8080/",
          "height": 34
        }
      },
      "source": [
        "keys[1]"
      ],
      "execution_count": 0,
      "outputs": [
        {
          "output_type": "execute_result",
          "data": {
            "text/plain": [
              "'position'"
            ]
          },
          "metadata": {
            "tags": []
          },
          "execution_count": 25
        }
      ]
    },
    {
      "cell_type": "code",
      "metadata": {
        "id": "GlmlEY1s-BA8",
        "colab_type": "code",
        "outputId": "3162919c-6436-43ab-b08a-25826444ae41",
        "colab": {
          "base_uri": "https://localhost:8080/",
          "height": 238
        }
      },
      "source": [
        "% matplotlib inline\n",
        "wordcloud = WordCloud(\n",
        "                          background_color='black',\n",
        "                          max_words=100,\n",
        "                          max_font_size=50, \n",
        "                          random_state=42\n",
        "                         ).generate(str(keys))\n",
        "print(wordcloud)\n",
        "fig = plt.figure(1)\n",
        "plt.imshow(wordcloud)\n",
        "plt.axis('off')\n",
        "plt.show()\n",
        "fig.savefig(\"word1.png\", dpi=900)"
      ],
      "execution_count": 0,
      "outputs": [
        {
          "output_type": "stream",
          "text": [
            "<wordcloud.wordcloud.WordCloud object at 0x7fad9791d748>\n"
          ],
          "name": "stdout"
        },
        {
          "output_type": "display_data",
          "data": {
            "image/png": "[encoded data removed]",
            "text/plain": [
              "<Figure size 432x288 with 1 Axes>"
            ]
          },
          "metadata": {
            "tags": []
          }
        }
      ]
    },
    {
      "cell_type": "markdown",
      "metadata": {
        "id": "nsUdeIjaMu5B",
        "colab_type": "text"
      },
      "source": [
        "#Concluding remarks\n",
        "Ideally for the IDF calculation to be effective, it should be based on a large corpora and a good representative of the text for which the keywords need to be extracted. In our example, if we use the full article text instead of the abstracts, the IDF extraction would be much more effective. However, considering the size of the dataset, I have limited the corpora to just the abstracts for the purpose of demonstration.\n",
        "This is a fairly simple approach to understand fundamental concepts of NLP and to provide a good hands-on practice with some python codes on a real-life use case. The same approach can be used to extract keywords from news feeds & social media feeds."
      ]
    },
    {
      "cell_type": "markdown",
      "metadata": {
        "id": "AwF5dnvXOUmx",
        "colab_type": "text"
      },
      "source": [
        "SOURCE : https://medium.com/analytics-vidhya/automated-keyword-extraction-from-articles-using-nlp-bfd864f41b34\n"
      ]
    }
  ]
}