{
  "nbformat": 4,
  "nbformat_minor": 0,
  "metadata": {
    "colab": {
      "name": "courses&articles_recommendation.ipynb",
      "version": "0.3.2",
      "provenance": [],
      "include_colab_link": true
    },
    "kernelspec": {
      "name": "python3",
      "display_name": "Python 3"
    }
  },
  "cells": [
    {
      "cell_type": "markdown",
      "metadata": {
        "id": "view-in-github",
        "colab_type": "text"
      },
      "source": [
        "<a href=\"https://colab.research.google.com/github/ZA3karia/course-articles-videos-recomendation/blob/master/courses%26articles_recommendation.ipynb\" target=\"_parent\"><img src=\"https://colab.research.google.com/assets/colab-badge.svg\" alt=\"Open In Colab\"/></a>"
      ]
    },
    {
      "cell_type": "code",
      "metadata": {
        "id": "-sp4MDAuRmKy",
        "colab_type": "code",
        "colab": {
          "base_uri": "https://localhost:8080/",
          "height": 207
        },
        "outputId": "b3b43b26-fcbd-4a7c-82c3-ee95805eeb15"
      },
      "source": [
        "pip install google-api-python-client"
      ],
      "execution_count": 1,
      "outputs": [
        {
          "output_type": "stream",
          "text": [
            "Requirement already satisfied: google-api-python-client in /usr/local/lib/python3.6/dist-packages (1.7.9)\n",
            "Requirement already satisfied: six<2dev,>=1.6.1 in /usr/local/lib/python3.6/dist-packages (from google-api-python-client) (1.12.0)\n",
            "Requirement already satisfied: google-auth>=1.4.1 in /usr/local/lib/python3.6/dist-packages (from google-api-python-client) (1.4.2)\n",
            "Requirement already satisfied: httplib2<1dev,>=0.9.2 in /usr/local/lib/python3.6/dist-packages (from google-api-python-client) (0.11.3)\n",
            "Requirement already satisfied: google-auth-httplib2>=0.0.3 in /usr/local/lib/python3.6/dist-packages (from google-api-python-client) (0.0.3)\n",
            "Requirement already satisfied: uritemplate<4dev,>=3.0.0 in /usr/local/lib/python3.6/dist-packages (from google-api-python-client) (3.0.0)\n",
            "Requirement already satisfied: rsa>=3.1.4 in /usr/local/lib/python3.6/dist-packages (from google-auth>=1.4.1->google-api-python-client) (4.0)\n",
            "Requirement already satisfied: pyasn1-modules>=0.2.1 in /usr/local/lib/python3.6/dist-packages (from google-auth>=1.4.1->google-api-python-client) (0.2.5)\n",
            "Requirement already satisfied: cachetools>=2.0.0 in /usr/local/lib/python3.6/dist-packages (from google-auth>=1.4.1->google-api-python-client) (3.1.1)\n",
            "Requirement already satisfied: pyasn1>=0.1.3 in /usr/local/lib/python3.6/dist-packages (from rsa>=3.1.4->google-auth>=1.4.1->google-api-python-client) (0.4.5)\n"
          ],
          "name": "stdout"
        }
      ]
    },
    {
      "cell_type": "markdown",
      "metadata": {
        "id": "1cxOhMhqV9Q8",
        "colab_type": "text"
      },
      "source": [
        "#For courses"
      ]
    },
    {
      "cell_type": "code",
      "metadata": {
        "id": "m_5aV075RoNX",
        "colab_type": "code",
        "colab": {}
      },
      "source": [
        "from googleapiclient.discovery import build\n",
        "\n",
        "my_api_key_courses = \"your courses API\"\n",
        "my_cse_id_courses = \"your courses cse ID\"\n"
      ],
      "execution_count": 0,
      "outputs": []
    },
    {
      "cell_type": "code",
      "metadata": {
        "id": "Z3G-PhSzRoEf",
        "colab_type": "code",
        "colab": {}
      },
      "source": [
        "\n",
        "def google_search_courses(search_term, api_key = my_api_key_courses , cse_id = my_cse_id_courses , **kwargs):\n",
        "    service = build(\"customsearch\", \"v1\", developerKey=api_key)\n",
        "    res = service.cse().list(q=search_term, cx=cse_id, **kwargs).execute()\n",
        "    return res"
      ],
      "execution_count": 0,
      "outputs": []
    },
    {
      "cell_type": "markdown",
      "metadata": {
        "id": "zH2YyhP2WRG6",
        "colab_type": "text"
      },
      "source": [
        ""
      ]
    },
    {
      "cell_type": "code",
      "metadata": {
        "id": "WdQHDkYpSCd-",
        "colab_type": "code",
        "colab": {}
      },
      "source": [
        "result = google_search_courses(\"web dev Native\")"
      ],
      "execution_count": 0,
      "outputs": []
    },
    {
      "cell_type": "markdown",
      "metadata": {
        "id": "m5gSVREmV8h6",
        "colab_type": "text"
      },
      "source": [
        "For  articles"
      ]
    },
    {
      "cell_type": "code",
      "metadata": {
        "id": "yI2uv7EVTU0f",
        "colab_type": "code",
        "colab": {}
      },
      "source": [
        "from googleapiclient.discovery import build\n",
        "\n",
        "my_api_key_articles = \"your articles API\"\n",
        "my_cse_id_articles = \"your articles cse ID\""
      ],
      "execution_count": 0,
      "outputs": []
    },
    {
      "cell_type": "code",
      "metadata": {
        "id": "JfTXx-ZVTUiI",
        "colab_type": "code",
        "colab": {}
      },
      "source": [
        "\n",
        "def google_search_articles(search_term, api_key = my_api_key_articles , cse_id = my_cse_id_articles , **kwargs):\n",
        "    service = build(\"customsearch\", \"v1\", developerKey=api_key)\n",
        "    res = service.cse().list(q=search_term, cx=cse_id, **kwargs).execute()\n",
        "    return res"
      ],
      "execution_count": 0,
      "outputs": []
    },
    {
      "cell_type": "code",
      "metadata": {
        "id": "BtSaQbIiTUgt",
        "colab_type": "code",
        "colab": {
          "base_uri": "https://localhost:8080/",
          "height": 54
        },
        "outputId": "5c2e754c-80bf-4ddc-cd27-f44bc1fb0cc1"
      },
      "source": [
        "result = google_search_articles(\"web dev Native\", my_api_key, my_cse_id)\n",
        "print(result)"
      ],
      "execution_count": 17,
      "outputs": [
        {
          "output_type": "stream",
          "text": [
            "{'kind': 'customsearch#search', 'url': {'type': 'application/json', 'template': 'https://www.googleapis.com/customsearch/v1?q={searchTerms}&num={count?}&start={startIndex?}&lr={language?}&safe={safe?}&cx={cx?}&sort={sort?}&filter={filter?}&gl={gl?}&cr={cr?}&googlehost={googleHost?}&c2coff={disableCnTwTranslation?}&hq={hq?}&hl={hl?}&siteSearch={siteSearch?}&siteSearchFilter={siteSearchFilter?}&exactTerms={exactTerms?}&excludeTerms={excludeTerms?}&linkSite={linkSite?}&orTerms={orTerms?}&relatedSite={relatedSite?}&dateRestrict={dateRestrict?}&lowRange={lowRange?}&highRange={highRange?}&searchType={searchType}&fileType={fileType?}&rights={rights?}&imgSize={imgSize?}&imgType={imgType?}&imgColorType={imgColorType?}&imgDominantColor={imgDominantColor?}&alt=json'}, 'queries': {'request': [{'title': 'Google Custom Search - web dev Native', 'totalResults': '988', 'searchTerms': 'web dev Native', 'count': 10, 'startIndex': 1, 'inputEncoding': 'utf8', 'outputEncoding': 'utf8', 'safe': 'off', 'cx': '000997329732406525134:bgjvwzq-ya4'}], 'nextPage': [{'title': 'Google Custom Search - web dev Native', 'totalResults': '988', 'searchTerms': 'web dev Native', 'count': 10, 'startIndex': 11, 'inputEncoding': 'utf8', 'outputEncoding': 'utf8', 'safe': 'off', 'cx': '000997329732406525134:bgjvwzq-ya4'}]}, 'context': {'title': 'articles_recommendation'}, 'searchInformation': {'searchTime': 0.506143, 'formattedSearchTime': '0.51', 'totalResults': '988', 'formattedTotalResults': '988'}, 'items': [{'kind': 'customsearch#result', 'title': 'CROSS PLATFORM APP A COMPARATIVE STUDY', 'htmlTitle': 'CROSS PLATFORM APP A COMPARATIVE STUDY', 'link': 'https://arxiv.org/pdf/1503.03511', 'displayLink': 'arxiv.org', 'snippet': 'The development of native applications require a high level of specialized ... This \\npaper address the architectures for web development and needs for\\xa0...', 'htmlSnippet': 'The development of <b>native</b> applications require a high level of specialized ... This <br>\\npaper address the architectures for <b>web development</b> and needs for&nbsp;...', 'cacheId': 'tfaru18Fw5kJ', 'mime': 'application/pdf', 'fileFormat': 'PDF/Adobe Acrobat', 'formattedUrl': 'https://arxiv.org/pdf/1503.03511', 'htmlFormattedUrl': 'https://arxiv.org/pdf/1503.03511', 'pagemap': {'cse_thumbnail': [{'width': '253', 'height': '199', 'src': 'https://encrypted-tbn0.gstatic.com/images?q=tbn:ANd9GcSyfokdAwW-39kpqkusdXca-Ah1GvFj2g43LrtzvDF94jUp558HiGS4yWJs'}], 'metatags': [{'producer': 'doPDF Ver 8.2 Build 927', 'creationdate': \"D:20150228095833+05'30'\"}], 'cse_image': [{'src': 'x-raw-image:///dd22b28ddc88ad94c0c100d24e91c8e04cdef2fa255aba4cb8ac497f31d359b5'}]}}, {'kind': 'customsearch#result', 'title': 'An End-User Development approach for Mobile Web Augmentation ...', 'htmlTitle': 'An End-User <b>Development</b> approach for Mobile <b>Web</b> Augmentation ...', 'link': 'https://arxiv.org/pdf/1906.01418', 'displayLink': 'arxiv.org', 'snippet': 'most Web applications have not this native mobile counterpart and users access \\n.... topics faced in this approach: End-User Development, Mobile Applications,\\xa0...', 'htmlSnippet': 'most <b>Web</b> applications have not this <b>native</b> mobile counterpart and users access <br>\\n.... topics faced in this approach: End-User <b>Development</b>, Mobile Applications,&nbsp;...', 'cacheId': '_1nLzoY2eyQJ', 'mime': 'application/pdf', 'fileFormat': 'PDF/Adobe Acrobat', 'formattedUrl': 'https://arxiv.org/pdf/1906.01418', 'htmlFormattedUrl': 'https://arxiv.org/pdf/1906.01418', 'pagemap': {'cse_thumbnail': [{'width': '275', 'height': '183', 'src': 'https://encrypted-tbn2.gstatic.com/images?q=tbn:ANd9GcQ5Q1rRARWdY6UhE7yOViexo6ig1Am5aWkExKecehQCscOAJhKXoI2nTts'}], 'metatags': [{'author': 'gabi', 'creator': 'Microsoft® Word\\xa02013', 'creationdate': \"D:20190603151251+02'00'\", 'moddate': \"D:20190603151251+02'00'\", 'producer': 'Microsoft® Word\\xa02013'}], 'cse_image': [{'src': 'x-raw-image:///70925251f35cecb6fa955731f199fdcf49645f6c1b7912f43581ccf212811f2e'}]}}, {'kind': 'customsearch#result', 'title': 'Moving Deep Learning into Web Browser: How Far Can We Go?', 'htmlTitle': 'Moving Deep Learning into <b>Web</b> Browser: How Far Can We Go?', 'link': 'https://arxiv.org/pdf/1901.09388', 'displayLink': 'arxiv.org', 'snippet': 'offer a comparable experience to native applications, especially for the popular \\nWeb game applications [38][34]. In particular, bene- fited from the development\\xa0...', 'htmlSnippet': 'offer a comparable experience to <b>native</b> applications, especially for the popular <br>\\n<b>Web</b> game applications [38][34]. In particular, bene- fited from the <b>development</b>&nbsp;...', 'cacheId': '4weVHx_YszkJ', 'mime': 'application/pdf', 'fileFormat': 'PDF/Adobe Acrobat', 'formattedUrl': 'https://arxiv.org/pdf/1901.09388', 'htmlFormattedUrl': 'https://arxiv.org/pdf/1901.09388', 'pagemap': {'cse_thumbnail': [{'width': '382', 'height': '132', 'src': 'https://encrypted-tbn2.gstatic.com/images?q=tbn:ANd9GcRqFcKs-qY7FUae4BcNfhMwBm9grgMkuSxltBfGWzym9OVTvUQ4gFtywGk'}], 'metatags': [{'author': 'Yun Ma1,2, Dongwei Xiang1, Shuyu Zheng1, Deyu Tian1, Xuanzhe Liu1', 'creationdate': 'D:20190326011551Z', 'creator': 'LaTeX with acmart 2018/12/16 v1.57 Typesetting articles for the Association for Computing Machinery and hyperref 2016/06/24 v6.83q Hypertext links for LaTeX', 'moddate': 'D:20190326011551Z', 'fullbanner': 'This is pdfTeX, Version 3.14159265-2.6-1.40.17 (TeX Live 2016) kpathsea version 6.2.2', 'producer': 'pdfTeX-1.40.17', 'title': 'Moving Deep Learning into Web Browser: How Far Can We Go?'}], 'cse_image': [{'src': 'x-raw-image:///16222c08ce277acac0acf14fbbb4ae6d2602103a6de6a93c804beb6dc9d4e878'}]}}, {'kind': 'customsearch#result', 'title': 'Application Security framework for Mobile App Development in ...', 'htmlTitle': 'Application Security framework for Mobile App <b>Development</b> in ...', 'link': 'https://arxiv.org/pdf/1503.05992', 'displayLink': 'arxiv.org', 'snippet': 'be developed either as a native application tightly stitched to the operating \\nsystem or the App can be developed as Web Apps [6]. In either of these \\napproaches\\xa0...', 'htmlSnippet': 'be developed either as a <b>native</b> application tightly stitched to the operating <br>\\nsystem or the App can be developed as <b>Web</b> Apps [6]. In either of these <br>\\napproaches&nbsp;...', 'cacheId': '5LeXYLtOJ54J', 'mime': 'application/pdf', 'fileFormat': 'PDF/Adobe Acrobat', 'formattedUrl': 'https://arxiv.org/pdf/1503.05992', 'htmlFormattedUrl': 'https://arxiv.org/pdf/1503.05992', 'pagemap': {'cse_thumbnail': [{'width': '224', 'height': '224', 'src': 'https://encrypted-tbn2.gstatic.com/images?q=tbn:ANd9GcQX9N4mz67Sa3LzOkgW3yftXDHQ6VPhHry8tJ07imGBmn5w2TUQGEbO8AU'}], 'metatags': [{'author': 'Subhamoy Chakraborti', 'creationdate': \"D:20150320101807+05'30'\", 'creator': 'Microsoft® Word 2010', 'moddate': \"D:20150320101828+05'30'\", 'producer': 'Microsoft® Word 2010'}], 'cse_image': [{'src': 'x-raw-image:///0222a43215d1733eaeb2aa43f330e3206df907dcb5491c737ba23da2a869365d'}]}}, {'kind': 'customsearch#result', 'title': 'Multiparty Session Type-safe Web Development with Static Linearity', 'htmlTitle': 'Multiparty Session Type-safe <b>Web Development</b> with Static Linearity', 'link': 'https://arxiv.org/pdf/1904.01287', 'displayLink': 'arxiv.org', 'snippet': 'Contributions This paper presents a type-safe web application development work \\nflow following the ..... be slightly worse without native row types support.', 'htmlSnippet': 'Contributions This paper presents a type-safe <b>web</b> application <b>development</b> work <br>\\nflow following the ..... be slightly worse without <b>native</b> row types support.', 'cacheId': '4xksbjSDg6cJ', 'mime': 'application/pdf', 'fileFormat': 'PDF/Adobe Acrobat', 'formattedUrl': 'https://arxiv.org/pdf/1904.01287', 'htmlFormattedUrl': 'https://arxiv.org/pdf/1904.01287', 'pagemap': {'metatags': [{'creator': 'LaTeX with hyperref package', 'producer': 'pdfTeX-1.40.17', 'creationdate': 'D:20190403012942Z', 'moddate': 'D:20190403012942Z', 'fullbanner': 'This is pdfTeX, Version 3.14159265-2.6-1.40.17 (TeX Live 2016) kpathsea version 6.2.2'}]}}, {'kind': 'customsearch#result', 'title': 'TigerGraph: A Native MPP Graph Database', 'htmlTitle': 'TigerGraph: A <b>Native</b> MPP Graph Database', 'link': 'https://arxiv.org/pdf/1901.08248', 'displayLink': 'arxiv.org', 'snippet': 'Jan 24, 2019 ... A free TigerGraph developer edition can be downloaded from the company Web \\nsite 1, together with documentation, an e-book, white papers,\\xa0...', 'htmlSnippet': 'Jan 24, 2019 <b>...</b> A free TigerGraph <b>developer</b> edition can be downloaded from the company <b>Web</b> <br>\\nsite 1, together with documentation, an e-book, white papers,&nbsp;...', 'cacheId': '07MkCBh3pmsJ', 'mime': 'application/pdf', 'fileFormat': 'PDF/Adobe Acrobat', 'formattedUrl': 'https://arxiv.org/pdf/1901.08248', 'htmlFormattedUrl': 'https://arxiv.org/pdf/1901.08248', 'pagemap': {'cse_thumbnail': [{'width': '225', 'height': '225', 'src': 'https://encrypted-tbn1.gstatic.com/images?q=tbn:ANd9GcSkubppXLsVvIv_qfOGt7c5l9WrOYyDP7us5-GWFygwfG3oN9wicjmYQQta'}], 'metatags': [{'author': 'Alin Deutsch  Yu Xu Mingxi Wu Victor Lee', 'creationdate': 'D:20190125015217Z', 'creator': 'LaTeX with acmart 2018/04/14 v1.53 Typesetting articles for the Association for Computing Machinery and hyperref 2016/06/24 v6.83q Hypertext links for LaTeX', 'moddate': 'D:20190125015217Z', 'fullbanner': 'This is pdfTeX, Version 3.14159265-2.6-1.40.17 (TeX Live 2016) kpathsea version 6.2.2', 'producer': 'pdfTeX-1.40.17', 'title': 'TigerGraph: A Native MPP Graph Database'}], 'cse_image': [{'src': 'x-raw-image:///af7d514b1cce14bd45dedac8ec9dc8be522f8df874819da5be04db983fb66370'}]}}, {'kind': 'customsearch#result', 'title': 'Digital Forensic Approaches for Amazon Alexa Ecosystem', 'htmlTitle': 'Digital Forensic Approaches for Amazon Alexa Ecosystem', 'link': 'https://arxiv.org/pdf/1707.08696', 'displayLink': 'arxiv.org', 'snippet': 'Jan 26, 2017 ... cloud native artifacts from Alexa using unofficial APIs and analyze .... analysis \\nusing the Charles web debugging proxy [9], ...... Developer name.', 'htmlSnippet': 'Jan 26, 2017 <b>...</b> cloud <b>native</b> artifacts from Alexa using unofficial APIs and analyze .... analysis <br>\\nusing the Charles <b>web</b> debugging proxy [9], ...... <b>Developer</b> name.', 'cacheId': 'OBghgz--StIJ', 'mime': 'application/pdf', 'fileFormat': 'PDF/Adobe Acrobat', 'formattedUrl': 'https://arxiv.org/pdf/1707.08696', 'htmlFormattedUrl': 'https://arxiv.org/pdf/1707.08696', 'pagemap': {'cse_thumbnail': [{'width': '253', 'height': '199', 'src': 'https://encrypted-tbn0.gstatic.com/images?q=tbn:ANd9GcSBZVaxlKnuDaxeN1E3Kje80D_LNnE-teFsoYqgb2j_joZU3sIqD0zdmRlU'}], 'metatags': [{'producer': 'Microsoft® Word 2016', 'creator': 'Microsoft® Word 2016', 'creationdate': \"D:20170726231901-04'00'\", 'moddate': \"D:20170726231901-04'00'\"}], 'cse_image': [{'src': 'x-raw-image:///8348b0ac887f2e5813d7e97a74ab11f6146f7db527248cc401b30216257d99ae'}]}}, {'kind': 'customsearch#result', 'title': 'Machine Learning-Based Prototyping of Graphical User Interfaces ...', 'htmlTitle': 'Machine Learning-Based Prototyping of Graphical User Interfaces ...', 'link': 'https://arxiv.org/pdf/1802.02312', 'displayLink': 'arxiv.org', 'snippet': 'Jun 5, 2018 ... and coding user interfaces, an accurate automated approach would likely be \\npreferred. ...... in nature, that is utilizing web content within a native.', 'htmlSnippet': 'Jun 5, 2018 <b>...</b> and <b>coding</b> user interfaces, an accurate automated approach would likely be <br>\\npreferred. ...... in nature, that is utilizing <b>web</b> content within a <b>native</b>.', 'cacheId': '6s7UcRoQGa4J', 'mime': 'application/pdf', 'fileFormat': 'PDF/Adobe Acrobat', 'formattedUrl': 'https://arxiv.org/pdf/1802.02312', 'htmlFormattedUrl': 'https://arxiv.org/pdf/1802.02312', 'pagemap': {'cse_thumbnail': [{'width': '230', 'height': '219', 'src': 'https://encrypted-tbn3.gstatic.com/images?q=tbn:ANd9GcRtreOZsOxYL02IdiCz350is0knjfiqGecVJNSXyXLjsgWseO93DBmEYkw'}], 'metatags': [{'creationdate': 'D:20180606005559Z', 'creator': 'LaTeX with hyperref package', 'moddate': 'D:20180606005559Z', 'fullbanner': 'This is pdfTeX, Version 3.14159265-2.6-1.40.17 (TeX Live 2016) kpathsea version 6.2.2', 'producer': 'pdfTeX-1.40.17'}], 'cse_image': [{'src': 'x-raw-image:///89a985e631ead967739a6714a4151899cd340b23381cd3fc249c72073782d377'}]}}, {'kind': 'customsearch#result', 'title': 'Comparing Selected Criteria of Programming Languages Java, PHP ...', 'htmlTitle': 'Comparing Selected Criteria of <b>Programming</b> Languages Java, PHP ...', 'link': 'https://arxiv.org/pdf/1008.3434', 'displayLink': 'arxiv.org', 'snippet': 'Aug 10, 2010 ... programming practices, web applications development, web services design and \\ncomposition, ...... Method 9 public final native viod java.lang.', 'htmlSnippet': 'Aug 10, 2010 <b>...</b> <b>programming</b> practices, <b>web</b> applications <b>development</b>, <b>web</b> services design and <br>\\ncomposition, ...... Method 9 public final <b>native</b> viod java.lang.', 'cacheId': '8JFghutRQVMJ', 'mime': 'application/pdf', 'fileFormat': 'PDF/Adobe Acrobat', 'formattedUrl': 'https://arxiv.org/pdf/1008.3434', 'htmlFormattedUrl': 'https://arxiv.org/pdf/1008.3434', 'pagemap': {'cse_thumbnail': [{'width': '270', 'height': '187', 'src': 'https://encrypted-tbn3.gstatic.com/images?q=tbn:ANd9GcT7KdUsPnzXd5ePT_BdQfssiH3W9tSbChvmNX1T384FrXyVAis825whJUVJ'}], 'metatags': [{'title': 'Comparing Selected Criteria of Programming Languages Java, PHP, C++, Perl, Haskell, AspectJ, Ruby, COBOL, Bash Scripts and Scheme', 'author': 'Sultan', 'creator': 'Microsoft® Office Word 2007', 'creationdate': 'D:20100819224931', 'moddate': 'D:20100819224931', 'producer': 'Microsoft® Office Word 2007'}], 'cse_image': [{'src': 'x-raw-image:///13c0d29d88e4bc2b65627215e95d1269bba08c24197d51bd948f4cbaeb6a2ee7'}]}}, {'kind': 'customsearch#result', 'title': 'Comparative Studies of 10 Programming Languages within 10 ...', 'htmlTitle': 'Comparative Studies of 10 <b>Programming</b> Languages within 10 ...', 'link': 'https://arxiv.org/pdf/1009.0305', 'displayLink': 'arxiv.org', 'snippet': 'Default more secure programming practices, Web applications development, OO- \\n...... compiles to native machine code and undergoes heavy changes due to\\xa0...', 'htmlSnippet': 'Default more secure <b>programming</b> practices, <b>Web</b> applications <b>development</b>, OO- <br>\\n...... compiles to <b>native</b> machine code and undergoes heavy changes due to&nbsp;...', 'cacheId': 'Fhbg50t_GQoJ', 'mime': 'application/pdf', 'fileFormat': 'PDF/Adobe Acrobat', 'formattedUrl': 'https://arxiv.org/pdf/1009.0305', 'htmlFormattedUrl': 'https://arxiv.org/pdf/1009.0305', 'pagemap': {'cse_thumbnail': [{'width': '416', 'height': '121', 'src': 'https://encrypted-tbn3.gstatic.com/images?q=tbn:ANd9GcT5y8CyxWd-lQf0g5OX57w1Clg4RMOROB9zcgRRSVIWTKa7idNrDfXY3YQ'}], 'metatags': [{'producer': 'GPL Ghostscript 8.71', 'creationdate': \"D:20100901194238-04'00'\", 'moddate': \"D:20100901194238-04'00'\", 'title': 'comp6411-tem7', 'creator': 'PDFCreator Version 1.0.1', 'author': 'Sleiman Rabah'}], 'cse_image': [{'src': 'x-raw-image:///c3677d9a51e688df742ee6ba1491c1bb17f30ff42ab90dad27e498002eb6e01d'}]}}]}\n"
          ],
          "name": "stdout"
        }
      ]
    }
  ]
}